{
 "cells": [
  {
   "cell_type": "markdown",
   "id": "dab8d145-f934-49fd-853b-00ad34456203",
   "metadata": {},
   "source": [
    " Project completed by Alejandro Cruz Setzekorn"
   ]
  },
  {
   "cell_type": "markdown",
   "id": "9e29453f-645a-4ead-865a-fc9a720cfb9a",
   "metadata": {},
   "source": [
    "# Bio 453 Project"
   ]
  },
  {
   "cell_type": "markdown",
   "id": "80ad89dc-aaba-41b9-a196-0b1713510677",
   "metadata": {},
   "source": [
    "## Introduction\n",
    "\n",
    "        For my computational final project, my goal is to build a rudimentary three-dimensional protein structure prediction model using Markov chain principles. Given the complex undertaking that would be required to build an accurate prediction model, I plan to simplify the process by confining my model to a 2-D lattice, and hopefully expand it into 3 dimensions. Furthermore, I will be limited by the computational power and resources, so I will also keep my protein prediction scope limited. To do that, I will have to determine if working with a particular protein type or a limited dataset of reference structures will be my best option. I will begin by better understanding the structure of a protein, move on to figuring out how we can use amino acid chains to predict those structures, and make references to what type of work has been used within the space of Markov chain simulations. I may or may not look at specific code used by previous models to avoid influencing my own work, but I will most certainly be reading their research papers to gain a better insight into what factors contributed to the development of said work. This will include looking at model diagrams of flow of information and model code structures. Following each model, I will provide a brief discussion on the results and decide where I can go from there. I also plan to start with a very simple prediction method with minimal parameters, and iteratively build on it as much as I can. Each model version will be displayed in the Jupyter notebook upon submission."
   ]
  },
  {
   "cell_type": "markdown",
   "id": "3c1697ae-1bb0-48d0-bf28-4e7fee8d6c1a",
   "metadata": {},
   "source": [
    "## I. Background Information"
   ]
  },
  {
   "cell_type": "markdown",
   "id": "0560c6e0-4612-4d3d-bdf1-bbe7478d6118",
   "metadata": {},
   "source": [
    "### i. Understanding The Structure of a Protein"
   ]
  },
  {
   "cell_type": "markdown",
   "id": "23168bba-e351-418d-bcf6-8e7bee4f6290",
   "metadata": {
    "tags": []
   },
   "source": [
    "       Before I begin forming my model, I want to go into some detail and learn about the structure of a protein and get a general sense of what factors can influence how a linear chain of amino acids can form into its 3D shape.\n",
    "       \n",
    "        Proteins are made up of chains of amino acids. Each one is composed of a carboxylic acid (which contains a carboxyl group, -COOH) and an amino functional group. In between lies an alpha carbon, with an H atom also paired to it. It is the fourth covalent bond in which most variation is seen in each amino acid, and these are known as R groups, or side chains. These play a large role in dictating the functionality and shape of proteins, including how they interact with their environment. The R group will affect the amino acid in how it behaves and attaches to other amino acids, as well as determining if it will become hydrophobic or hydrophilic. A hydrophilic amino acid such as serine may tend to move outwards of the protein structure it’s a part of, while valine may tend to move inwards.\n",
    "\n",
    "        Peptide bonds (which have directionality) connect amino acids at opposite ends via a covalent bond. The bond itself does not allow for rotation, but the alpha carbon atom does, allowing for the protein to adopt various shapes (and therefore various functions).\n",
    "\n",
    "        There are various degrees of protein structure. The sequence of amino acids itself for a protein is called its primary structure. Changing just one of the amino acids in the chain can affect the protein’s function and structure, such as in the case of sickle cell anemia, in which two amino acids of a hemoglobin are switched which cause a crescent-shaped deformation that causes blockages within the blood vessel. A normal hemoglobin cell should be pocket-shaped to perform its duty of transporting oxygen. Secondary structures refer to local folded structures. Some of the most common secondary structures include an alpha-helix and a beta-sheet, formed by the chain of amino acids. In an alpha helix, the carbonyl of one of the amino acids bonds to the amino of an amino acid further down the chain, pulling the chain into a helical structure.\n",
    "\n",
    "        The three-dimensional structure itself is called a tertiary structure, and it is formed in large part due to the R group interactions. Oftentimes, proteins interact with other proteins to carry out their functions, forming to create a quaternary structure (such as in the hemoglobin example, which is composed of two alpha and two beta secondary structures).\n"
   ]
  },
  {
   "cell_type": "markdown",
   "id": "3ac9fdff-52ea-4a69-8e53-e73ec5c976ac",
   "metadata": {},
   "source": [
    "### ii. Previous Attempts at Protein Prediction With Markov Chains"
   ]
  },
  {
   "cell_type": "markdown",
   "id": "6807b666-0720-4e36-b63e-d5cafbc03fe0",
   "metadata": {},
   "source": [
    "        If one were to model every possible folding configuration of a structure for just one single protein, it would soon become computationally impossible, let alone the amount of time that would be required. The benefit of this prediction is that not all potential shapes are likely, as proteins tend to conform to specific local patterns depending on the sequence of amino acids. These local patterns can be called structural motifs. Understanding these motifs can enable researchers to better understand the possible conformations of a folded protein at a local scale, helping to predict the potential structure on a global scale. Hidden Markov models (HMM) are a good tool to use when looking at the context of these motifs and how they transition across a sequence of amino acids. These structural motifs can be used as a template to help predict the structures of proteins.\n",
    "    \n",
    "        Ramachandran basins are another method that can be used to map the possible angles amino acids in a protein can adopt relative to one another. It can be parametrized by two angles intervals, phi (angle between the nitrogen atom and the alpha carbon, located in the backbone of the amino acid) and psi (angle between the alpha carbon and the carbonyl carbon), with a range of -180 and 180 degrees, accounting for all possible rotations around the bonds connecting the atoms. Not all angles within this range are equally probable, though. The Ramachandran plot can help to visualize which angles are more likely, or possible.\n",
    "    \n",
    "        Finally, another method is FB5-HMM (Hamelryck et al., 2006), which is a model that uses a directional distribution to parametrize local structural biases in protein structures. The model uses theta and tau space rather than phi and psi space, allowing for more complex dependencies to be captured. The main benefit of using this distribution is that it enables this model to form conformations that may not be found in a fragment library that would otherwise be used.\n",
    "    \n",
    "        A position-specific hidden Markov model (Cheng et al., 2008), called Fragment-HMM, was developed to predict protein structures. The model predicted protein structures managed to converge within 6 Å of the experimental found structures across six hundred benchmark proteins. It also managed to model the protein structure end-to-end, rather than modeling it in fragmented parts as most models have done in the past. With that said, parts of their work come from three areas of research, which are fragment assembly, hidden Markov model sampling, and Ramachandran basins.\n",
    "    \n",
    "        This model focuses on local structural biases and their interactions by combining probabilistic sampling with iterative refinements. It probabilistically samples various protein structure conformations with regards to local structural biases for a particular protein. For each residue (side chain), a cosine model is used to describe the preferred angles (torsion angles phi and psi) that a given protein tends to adopt. This type of model is ideal for capturing periodic or cyclical actions. A position-specific HMM captures structural preferences relating to the preferences of adjacent residues in the sequence by using information from known protein fragments, helping the model to predict how likely certain configurations are. This is known as a Fragment-HMM. The Fragment-HMM samples a sequence of torsion angle pairs and a particular protein sequence, with an energy function that evaluates probabilistically generated decoys (various possible conformations). Lastly, the decoys (as outputs) are fed back into the system, helping to refine estimates of local structural biases and improve the model prediction. This is done until convergence is achieved.\n",
    "\n",
    "        An incredibly important model to mention would be AlphaFold, which is to date, the most accuracte protein prediction model (in fact, over six times more accurate than the previous model mentioned). I will not dive too deep into this method, though, as it is a vastly complicated advaned tool that uses a deep learning framework and is out of the scope for this project. Therefore, I will not be referencing when building my own model."
   ]
  },
  {
   "cell_type": "markdown",
   "id": "75ec2f80-92d7-4d1d-bcb8-9262fa7158d4",
   "metadata": {},
   "source": [
    "## II. Building the Markov Chain Model"
   ]
  },
  {
   "cell_type": "markdown",
   "id": "d127942f-4e42-4054-a3ed-0c8491bc5387",
   "metadata": {},
   "source": [
    "### i. Building the First Model"
   ]
  },
  {
   "cell_type": "markdown",
   "id": "609e7b4e-0516-4d7a-99f9-8572126a234a",
   "metadata": {},
   "source": [
    "        The first model will be a simple approach that can then be built upon into a more complex prediction model with more paramters later on. The input will be an amino acid chain (random letters for now) sequence, which can then be folded within a two-dimensional lattice grid. Each amino acid will have a set of possible positions that it can take relative to the amino acid before it (such as right, left, up, down). The model will try to predict the most probable configuration and shape of the protein in a very basic form. For now, all movements will be random. Later on, I will try to figure out how to form a slighty realistic probability distribution. \n",
    "        \n",
    "        The steps for this model will be as follows:\n",
    "        1.) Defining the lattice and possible movements based on the previous amino acid\n",
    "            - In this case, I will start with a 10x10 grid\n",
    "        2.) Defining the transition probabilities\n",
    "            - Transitions in terms of movement/positioning of the next amino acid. The amino acid sequence itself will be given.\n",
    "        3.) Simulating the folding by starting the first amino acid in the sequence arbitrarily\n",
    "            - The Markov chain will determine the next position of each amino acid in the sequence\n",
    "        4.) Output the results\n",
    "        \n",
    "        Also to note, I will not be setting a random seed for the randomization of the positioning. I want to see what kind of structures the model can generate for the meantime."
   ]
  },
  {
   "cell_type": "code",
   "execution_count": 448,
   "id": "16dece36-f50c-40d2-8ccc-e64bf95dc20f",
   "metadata": {
    "tags": []
   },
   "outputs": [
    {
     "data": {
      "text/html": [
       "        <script type=\"text/javascript\">\n",
       "        window.PlotlyConfig = {MathJaxConfig: 'local'};\n",
       "        if (window.MathJax && window.MathJax.Hub && window.MathJax.Hub.Config) {window.MathJax.Hub.Config({SVG: {font: \"STIX-Web\"}});}\n",
       "        if (typeof require !== 'undefined') {\n",
       "        require.undef(\"plotly\");\n",
       "        requirejs.config({\n",
       "            paths: {\n",
       "                'plotly': ['https://cdn.plot.ly/plotly-2.12.1.min']\n",
       "            }\n",
       "        });\n",
       "        require(['plotly'], function(Plotly) {\n",
       "            window._Plotly = Plotly;\n",
       "        });\n",
       "        }\n",
       "        </script>\n",
       "        "
      ]
     },
     "metadata": {},
     "output_type": "display_data"
    }
   ],
   "source": [
    "from plotly.offline import init_notebook_mode\n",
    "\n",
    "# Set up Plotly to work in offline mode with JupyterLab\n",
    "init_notebook_mode(connected=True)"
   ]
  },
  {
   "cell_type": "code",
   "execution_count": 449,
   "id": "648411c9-7bca-4118-8560-17dc68b5c458",
   "metadata": {
    "tags": []
   },
   "outputs": [],
   "source": [
    "# Importing necessary libraries\n",
    "import numpy as np\n",
    "import matplotlib.pyplot as plt\n",
    "from mpl_toolkits.mplot3d import Axes3D\n",
    "import random\n",
    "import plotly.graph_objects as go"
   ]
  },
  {
   "cell_type": "code",
   "execution_count": 450,
   "id": "bc4057ea-de77-4aa8-bfb7-6e4fdb86f964",
   "metadata": {
    "tags": []
   },
   "outputs": [],
   "source": [
    "# Parameters\n",
    "grid_size = 10\n",
    "sequence = \"ABCDEFGHIJKLMNOPQRSTUVWXYZ\" # Simply starting with random characters for now (just the alphabet). Later on, will be replaced with actual amino acids representations\n",
    "\n",
    "# Initializing the grid\n",
    "grid = np.zeros((grid_size, grid_size), dtype=str)\n",
    "\n",
    "# If top left corner of grid is position (0,0), then starting position will be (6,6)\n",
    "start_pos = (grid_size // 2, grid_size // 2) \n",
    "grid[start_pos] = sequence[0]  # Placing the first amino acid\n",
    "\n",
    "# Possible movements\n",
    "movements = {'right': (0, 1), 'left': (0, -1), 'up': (-1, 0), 'down': (1, 0)\n",
    "}\n",
    "\n",
    "def valid_position(pos):\n",
    "    \"\"\" \n",
    "    Check if the position is within the grid and unoccupied \n",
    "    \"\"\"\n",
    "    x, y = pos # Unpacking 'pos'\n",
    "    # Ensure coordinates are within the defined bounds and that there is nothing in current position.\n",
    "    if 0 <= x < grid_size and 0 <= y < grid_size and grid[x, y] == '': \n",
    "        return True\n",
    "    return False\n",
    "\n",
    "def predict_structure():\n",
    "    \"\"\"\n",
    "    Object that simulate the sequential placement\n",
    "    of amino acids in 2-D space (2-D grid).\n",
    "    \"\"\"\n",
    "    current_pos = start_pos # Initialize a current position variable with 'start_pos'\n",
    "    for aa in sequence[1:]:  # Starting from the second amino acid ('aa'), iterate over rest of sequence\n",
    "        possible_moves = [] # Will store possible valid movements\n",
    "        # Check valid movements\n",
    "        for move, delta in movements.items(): # Iterate over possible movements defined in 'movements' dictionary\n",
    "        # 'move' is name of movement, 'delta' is the change in x or y coordinates\n",
    "            new_pos = (current_pos[0] + delta[0], current_pos[1] + delta[1]) # Find the next position\n",
    "            if valid_position(new_pos): # Use 'valid_position' function to check validity of moves\n",
    "                possible_moves.append(new_pos) # Append valid moves to 'possible_moves'\n",
    "        \n",
    "        # Break statement in case of present invalid moves\n",
    "        if not possible_moves: \n",
    "            print(\"No valid moves available.\")\n",
    "            break\n",
    "        \n",
    "        # Randomly select the next position from valid moves\n",
    "        next_pos = possible_moves[np.random.randint(len(possible_moves))] # Randomly selecting a possible move\n",
    "        grid[next_pos] = aa # Place current amino acid \n",
    "        current_pos = next_pos # Set 'current_pos' as 'next_pos'\n",
    "\n",
    "predict_structure()"
   ]
  },
  {
   "cell_type": "code",
   "execution_count": 451,
   "id": "f9047ab7-901a-40da-a47d-14097dbca5d4",
   "metadata": {
    "tags": []
   },
   "outputs": [
    {
     "data": {
      "image/png": "[encoded data removed]",
      "text/plain": [
       "<Figure size 640x480 with 1 Axes>"
      ]
     },
     "metadata": {},
     "output_type": "display_data"
    }
   ],
   "source": [
    "plt.figure()\n",
    "plt.imshow(grid != '', cmap='Greys', interpolation='none')\n",
    "plt.grid(True, which='both', color='black', linewidth=0.5)\n",
    "plt.xticks(np.arange(-.5, grid_size, 1), [])\n",
    "plt.yticks(np.arange(-.5, grid_size, 1), [])\n",
    "plt.tick_params(axis=u'both', which=u'both', length=0)\n",
    "plt.show()"
   ]
  },
  {
   "cell_type": "markdown",
   "id": "b1b38f2f-3e99-4455-bd85-53bb777dd1e8",
   "metadata": {},
   "source": [
    "### Brief Discussion on First Model\n",
    "\n",
    "        Okay, this does not really do much! It lacks any complexity that pertains to simulating a real model. I also do not like the visualization as it is. But it provides me with an idea of how I can start improving the model. I will try to expand the set of rules and parameters, including attempting to model it in 3D. "
   ]
  },
  {
   "cell_type": "markdown",
   "id": "715bcb1c-bb49-44c7-a086-a2883080f8a4",
   "metadata": {},
   "source": [
    "### ii. Building the Second Markov Model"
   ]
  },
  {
   "cell_type": "markdown",
   "id": "650ff3ac-b8ec-41c3-9cf5-6c61ee634b2a",
   "metadata": {},
   "source": [
    "        For this next attempt at the model, the only thing I will change is attempt to move it into a 3D lattice grid. This will hopefully provide a bit more complexity for the final model since while one can define the protein chain itself is one-dimensional, upon folding, it will turn into a three-dimensional structure. For this next model iteration, changes that will be made include: \n",
    "        \n",
    "        1.) Redefining the grid and converting it into a 3D lattice\n",
    "        2.) Adding further possible movements accordingly and updating the transition probabilities (again, totally random for now)\n",
    "        3.) Simulating the protein folding and outputing the structure in a 3D visual plot. \n"
   ]
  },
  {
   "cell_type": "code",
   "execution_count": 455,
   "id": "bdbec79c-24de-4f2c-9f19-52ee37e38bec",
   "metadata": {
    "tags": []
   },
   "outputs": [],
   "source": [
    "grid_size = 10 # Again defining the grid to be the same size for now (will increase the grid size significantly later on)\n",
    "sequence = \"ABCDEFGHIJKLMNOPQRSTUVWXYZ\"\n",
    "\n",
    "grid = np.zeros((grid_size, grid_size, grid_size), dtype=str) # Adding a third dimension\n",
    "\n",
    "start_pos = (grid_size // 2, grid_size // 2, grid_size // 2)\n",
    "grid[start_pos] = sequence[0]\n",
    "\n",
    "movements = {'right': (0, 1, 0), 'left': (0, -1, 0), 'up': (-1, 0, 0), 'down': (1, 0, 0),\n",
    "            'forward': (0, 0, 1), 'backward': (0, 0, -1)} # Adding a third dimension of possible positioning\n",
    "\n",
    "def valid_position(pos):\n",
    "    x, y, z = pos\n",
    "    if 0 <= x < grid_size and 0 <= y < grid_size and 0 <= z < grid_size and grid[x, y, z] == '':\n",
    "        return True\n",
    "    return False\n",
    "\n",
    "def predict_structure_3d():\n",
    "    current_pos = start_pos\n",
    "    for aa in sequence[1:]:\n",
    "        possible_moves = []\n",
    "        for move, delta in movements.items():\n",
    "            new_pos = (current_pos[0] + delta[0], current_pos[1] + delta[1], current_pos[2] + delta[2])\n",
    "            if valid_position(new_pos):\n",
    "                possible_moves.append(new_pos)\n",
    "        \n",
    "        if not possible_moves:\n",
    "            print(\"No valid moves available.\")\n",
    "            break\n",
    "        \n",
    "        next_pos = possible_moves[np.random.randint(len(possible_moves))]\n",
    "        grid[next_pos] = aa\n",
    "        current_pos = next_pos\n",
    "\n",
    "predict_structure_3d()"
   ]
  },
  {
   "cell_type": "code",
   "execution_count": 456,
   "id": "c3197190-c5c4-4e3c-bedf-1747d54e2b93",
   "metadata": {
    "tags": []
   },
   "outputs": [
    {
     "data": {
      "image/png": "[encoded data removed]",
      "text/plain": [
       "<Figure size 1000x800 with 1 Axes>"
      ]
     },
     "metadata": {},
     "output_type": "display_data"
    }
   ],
   "source": [
    "fig = plt.figure(figsize=(10, 8))\n",
    "ax = fig.add_subplot(111, projection='3d')\n",
    "\n",
    "indices = np.where(grid != '')\n",
    "x, y, z = indices[0], indices[1], indices[2]\n",
    "\n",
    "ax.scatter(x, y, z, color='blue', s=100)\n",
    "\n",
    "for i in range(len(x)): # Labeling the points\n",
    "    ax.text(x[i], y[i], z[i], grid[x[i], y[i], z[i]], color='red')\n",
    "\n",
    "ax.set_xlabel('X Axis')\n",
    "ax.set_ylabel('Y Axis')\n",
    "ax.set_zlabel('Z Axis')\n",
    "ax.set_title('3D Visualization of Protein Folding on a Lattice')\n",
    "\n",
    "plt.show()"
   ]
  },
  {
   "cell_type": "code",
   "execution_count": 457,
   "id": "79e71e8b-31bb-485c-afed-ef66d909fffe",
   "metadata": {
    "tags": []
   },
   "outputs": [
    {
     "data": {
      "image/png": "[encoded data removed]",
      "text/plain": [
       "<Figure size 1000x800 with 1 Axes>"
      ]
     },
     "metadata": {},
     "output_type": "display_data"
    }
   ],
   "source": [
    "# Same graph as above, but now connecting each point \n",
    "\n",
    "fig = plt.figure(figsize=(10, 8))\n",
    "ax = fig.add_subplot(111, projection='3d')\n",
    "indices = np.where(grid != '')\n",
    "x, y, z = indices[0], indices[1], indices[2] \n",
    "\n",
    "ax.scatter(x, y, z, color='blue', s=100) \n",
    "\n",
    "# Drawing lines between the points\n",
    "ax.plot(x, y, z, color='red', linewidth=2)\n",
    "\n",
    "for i in range(len(x)): # Labeling the points\n",
    "    ax.text(x[i], y[i], z[i], grid[x[i], y[i], z[i]], color='red')\n",
    "\n",
    "ax.set_xlabel('X Axis')\n",
    "ax.set_ylabel('Y Axis')\n",
    "ax.set_zlabel('Z Axis')\n",
    "ax.set_title('3D Visualization of Protein Folding on a Lattice With Connecting lines')\n",
    "\n",
    "plt.show()"
   ]
  },
  {
   "cell_type": "markdown",
   "id": "cbd6c41b-a46b-4bda-91c0-3dbf68bb03ac",
   "metadata": {},
   "source": [
    "        The visualization results are much better than before, but still not perfect. There are a couple of points that are very far from one another (at least from this perspective), which is not what I want if I want to try and model amino acids in a chain together. With that said, this looks like a better model to work off from. Before getting making the probabilities more realistic, I will incorporate amino acids into the model for my next iteration of it. I will also try to get the 3D model to be rotatable so I can better analyze the results. "
   ]
  },
  {
   "cell_type": "markdown",
   "id": "9d5226a4-100f-4622-9b7a-208624428906",
   "metadata": {},
   "source": [
    "### iii. Building the Third Markov Model"
   ]
  },
  {
   "cell_type": "markdown",
   "id": "fe96abca-505a-43ca-8830-b3ccd7ffca19",
   "metadata": {},
   "source": [
    "        For this iteration of the model, I want to incorporate a bit more complexity by listing out 20 amino acids and various characteristics of each, including their polarity and hydrophobcity. I'm not sure how relavent some of these characteristics will become later down the line with regards to the probability distributions I can aquire. This will just give me an idea of how I can expand my model by incorporating a bit mroe complexity to it. The properties I will use for now will provide another level of complexity in terms of the types of interactions amino acids can have. For example, if hydrophobic is True for an amino acid, then perhaps I can model it so that it tends to move towards the center (in this manner, it will simulate a hydrophobic amino acid that will try to get away from the H20 heavy environment outside of the defined lattice grid). The opposite can be true if hydrophobic is False. There is a lot to consider, so for the meantime, I will still take iterations of this model one step at a time.\n",
    "        \n",
    "        Steps for building this model will include:\n",
    "        1.) Initializing the amino acid data\n",
    "            - For now, only include properties of polarity and hydropathy\n",
    "        2.) Defining movement function\n",
    "            - This function will be expanded to try and model more complicated movement for the given characteristics of the amino acids\n",
    "        3.) Running the protein folding simulation\n",
    "            - See how well the model incorporates the new amino acid characteristics"
   ]
  },
  {
   "cell_type": "code",
   "execution_count": 461,
   "id": "8be5b5ad-05ed-4fa9-8949-90f03ebdb7f0",
   "metadata": {
    "tags": []
   },
   "outputs": [],
   "source": [
    "# Defining amino acids with characteristics of polarity and hydropahy, including a an index that defines the level of hydropathy\n",
    "amino_acids = {\n",
    "    'A': {'name': 'Alanine', 'polarity': 'nonpolar', 'hydropathy': 'hydrophobic', 'index': 1.8},\n",
    "    'R': {'name': 'Arginine', 'polarity': 'polar', 'hydropathy': 'hydrophilic', 'index': -4.5},\n",
    "    'N': {'name': 'Asparagine', 'polarity': 'polar', 'hydropathy': 'hydrophilic', 'index': -3.5},\n",
    "    'D': {'name': 'Aspartic acid', 'polarity': 'polar', 'hydropathy': 'hydrophilic', 'index': -3.5},\n",
    "    'C': {'name': 'Cysteine', 'polarity': 'nonpolar', 'hydropathy': 'hydrophobic', 'index': 2.5},\n",
    "    'Q': {'name': 'Glutamine', 'polarity': 'polar', 'hydropathy': 'hydrophilic', 'index': -3.5},\n",
    "    'E': {'name': 'Glutamic acid', 'polarity': 'polar', 'hydropathy': 'hydrophilic', 'index': -3.5},\n",
    "    'G': {'name': 'Glycine', 'polarity': 'nonpolar', 'hydropathy': 'neutral', 'index': -0.4},\n",
    "    'H': {'name': 'Histidine', 'polarity': 'polar', 'hydropathy': 'neutral', 'index': -3.2},\n",
    "    'I': {'name': 'Isoleucine', 'polarity': 'nonpolar', 'hydropathy': 'hydrophobic', 'index': 4.5},\n",
    "    'L': {'name': 'Leucine', 'polarity': 'nonpolar', 'hydropathy': 'hydrophobic', 'index': 3.8},\n",
    "    'K': {'name': 'Lysine', 'polarity': 'polar', 'hydropathy': 'hydrophilic', 'index': -3.9},\n",
    "    'M': {'name': 'Methionine', 'polarity': 'nonpolar', 'hydropathy': 'hydrophobic', 'index': 1.9},\n",
    "    'F': {'name': 'Phenylalanine', 'polarity': 'nonpolar', 'hydropathy': 'hydrophobic', 'index': 2.8},\n",
    "    'P': {'name': 'Proline', 'polarity': 'nonpolar', 'hydropathy': 'neutral', 'index': -1.6},\n",
    "    'S': {'name': 'Serine', 'polarity': 'polar', 'hydropathy': 'neutral', 'index': -0.8},\n",
    "    'T': {'name': 'Threonine', 'polarity': 'polar', 'hydropathy': 'neutral', 'index': -0.7},\n",
    "    'W': {'name': 'Tryptophan', 'polarity': 'nonpolar', 'hydropathy': 'hydrophobic', 'index': -0.9},\n",
    "    'Y': {'name': 'Tyrosine', 'polarity': 'nonpolar', 'hydropathy': 'neutral', 'index': -1.3},\n",
    "    'V': {'name': 'Valine', 'polarity': 'nonpolar', 'hydropathy': 'hydrophobic', 'index': 4.2}\n",
    "}\n",
    "\n",
    "# Setup for a 3D protein folding simulation\n",
    "grid_size = 20  # Increasing size of each dimension in the 3D grid\n",
    "grid = np.full((grid_size, grid_size, grid_size), '', dtype=str)  # Initialize a 3D grid with empty strings\n",
    "start_pos = (grid_size // 2, grid_size // 2, grid_size // 2) \n",
    "movements = {'up': (1, 0, 0), 'down': (-1, 0, 0), 'left': (0, -1, 0), 'right': (0, 1, 0), 'forward': (0, 0, 1), 'backward': (0, 0, -1)}\n",
    "\n",
    "def valid_position(pos):\n",
    "    x, y, z = pos\n",
    "    if 0 <= x < grid_size and 0 <= y < grid_size and 0 <= z < grid_size and grid[x, y, z] == '':\n",
    "        return True\n",
    "    return False\n",
    "\n",
    "def get_preferred_moves(aa, current_pos):\n",
    "    \"\"\" \n",
    "    Determines preferred moves based on amino acid properties. \n",
    "    \"\"\"\n",
    "    directions = []\n",
    "    center_vector = np.array([grid_size // 2, grid_size // 2, grid_size // 2]) - np.array(current_pos)\n",
    "    norm_vector = np.sign(center_vector)  # Direction towards or away from the center\n",
    "\n",
    "    # Move hydrophobic and nonpolar amino acids towards the center\n",
    "    if amino_acids[aa]['hydropathy'] == 'hydrophobic' or amino_acids[aa]['polarity'] == 'nonpolar':\n",
    "        new_pos = tuple(np.array(current_pos) + norm_vector)\n",
    "        if valid_position(new_pos):\n",
    "            directions.append(new_pos)\n",
    "\n",
    "    # Move hydrophilic and polar amino acids away from the center\n",
    "    elif amino_acids[aa]['hydropathy'] == 'hydrophilic' or amino_acids[aa]['polarity'] == 'polar':\n",
    "        new_pos = tuple(np.array(current_pos) - norm_vector)  # Opposite direction\n",
    "        if valid_position(new_pos):\n",
    "            directions.append(new_pos)\n",
    "\n",
    "    return directions\n",
    "\n",
    "def predict_structure_3d(sequence):\n",
    "    current_pos = start_pos\n",
    "    grid[current_pos] = sequence[0]  \n",
    "\n",
    "    for aa in sequence[1:]:\n",
    "        preferred_moves = get_preferred_moves(aa, current_pos)\n",
    "        if preferred_moves:\n",
    "            next_pos = random.choice(preferred_moves)  # Choose from preferred moves based on properties\n",
    "        else:\n",
    "            # If no preferred moves, make a random valid move\n",
    "            next_pos = None\n",
    "            while not next_pos:\n",
    "                random_move = random.choice(list(movements.values()))\n",
    "                potential_pos = tuple(np.array(current_pos) + np.array(random_move))\n",
    "                if valid_position(potential_pos):\n",
    "                    next_pos = potential_pos\n",
    "\n",
    "        grid[next_pos] = aa  # Place amino acid at the chosen position\n",
    "        current_pos = next_pos\n",
    "\n",
    "    return grid\n",
    "\n",
    "sequence = 'ACDEFGHIKLMNPQRSTVWY'  # Example sequence\n",
    "result_grid = predict_structure_3d(sequence)"
   ]
  },
  {
   "cell_type": "code",
   "execution_count": 462,
   "id": "8272543e-46e7-4ad5-a7bc-98239dab443a",
   "metadata": {
    "tags": []
   },
   "outputs": [
    {
     "data": {
      "image/png": "[encoded data removed]",
      "text/plain": [
       "<Figure size 1000x1000 with 1 Axes>"
      ]
     },
     "metadata": {},
     "output_type": "display_data"
    }
   ],
   "source": [
    "fig = plt.figure(figsize=(10, 10))\n",
    "ax = fig.add_subplot(111, projection='3d')\n",
    "indices = np.where(grid != '')\n",
    "x, y, z = indices[0], indices[1], indices[2] \n",
    "\n",
    "ax.scatter(x, y, z, color='blue', s=100) \n",
    "\n",
    "ax.plot(x, y, z, color='red', linewidth=2)\n",
    "\n",
    "for i in range(len(x)): \n",
    "    ax.text(x[i], y[i], z[i], grid[x[i], y[i], z[i]], color='red')\n",
    "\n",
    "ax.set_xlabel('X Axis')\n",
    "ax.set_ylabel('Y Axis')\n",
    "ax.set_zlabel('Z Axis')\n",
    "ax.set_title('3D Visualization of Protein Folding on a Lattice With Amino Acid Parameters')\n",
    "\n",
    "plt.show()"
   ]
  },
  {
   "cell_type": "markdown",
   "id": "3535d8ef-6df8-47cb-8b42-dec30c844988",
   "metadata": {},
   "source": [
    "        It is a bit difficult to interpret the results above as they do not seem so different when I modeled without the new parameters, but the structure does seem less random. It appears to have some sort of directionality, unlike the previous one. To get a better idea of the structure, I am going to try a library called plotly. "
   ]
  },
  {
   "cell_type": "code",
   "execution_count": 464,
   "id": "6c053856-796a-431b-998f-093a5742ac5a",
   "metadata": {
    "tags": []
   },
   "outputs": [
    {
     "data": {
      "application/vnd.plotly.v1+json": {
       "config": {
        "plotlyServerURL": "https://plot.ly"
       },
       "data": [
        {
         "marker": {
          "color": "blue",
          "size": 5
         },
         "mode": "markers+text",
         "text": [
          "W",
          "V",
          "Y",
          "T",
          "S",
          "R",
          "Q",
          "A",
          "P",
          "C",
          "N",
          "D",
          "M",
          "G",
          "F",
          "E",
          "L",
          "I",
          "H",
          "K"
         ],
         "textposition": "top center",
         "type": "scatter3d",
         "x": [
          8,
          9,
          9,
          10,
          10,
          10,
          10,
          10,
          10,
          10,
          10,
          10,
          10,
          10,
          10,
          10,
          10,
          10,
          10,
          10
         ],
         "y": [
          10,
          10,
          10,
          10,
          10,
          10,
          10,
          10,
          11,
          11,
          12,
          12,
          13,
          13,
          13,
          13,
          14,
          14,
          14,
          15
         ],
         "z": [
          4,
          4,
          5,
          4,
          5,
          6,
          7,
          10,
          7,
          10,
          6,
          10,
          6,
          8,
          9,
          10,
          5,
          6,
          7,
          5
         ]
        },
        {
         "line": {
          "color": "red",
          "width": 2
         },
         "mode": "lines",
         "type": "scatter3d",
         "x": [
          8,
          9,
          9,
          10,
          10,
          10,
          10,
          10,
          10,
          10,
          10,
          10,
          10,
          10,
          10,
          10,
          10,
          10,
          10,
          10
         ],
         "y": [
          10,
          10,
          10,
          10,
          10,
          10,
          10,
          10,
          11,
          11,
          12,
          12,
          13,
          13,
          13,
          13,
          14,
          14,
          14,
          15
         ],
         "z": [
          4,
          4,
          5,
          4,
          5,
          6,
          7,
          10,
          7,
          10,
          6,
          10,
          6,
          8,
          9,
          10,
          5,
          6,
          7,
          5
         ]
        }
       ],
       "layout": {
        "autosize": true,
        "height": 360,
        "scene": {
         "aspectmode": "auto",
         "aspectratio": {
          "x": 0.5108729549290354,
          "y": 1.2771823873225885,
          "z": 1.5326188647871062
         },
         "xaxis": {
          "backgroundcolor": "rgb(230, 230,230)",
          "showbackground": true,
          "title": {
           "text": "X Axis"
          },
          "type": "linear"
         },
         "yaxis": {
          "backgroundcolor": "rgb(230, 230,230)",
          "showbackground": true,
          "title": {
           "text": "Y Axis"
          },
          "type": "linear"
         },
         "zaxis": {
          "backgroundcolor": "rgb(230, 230,230)",
          "showbackground": true,
          "title": {
           "text": "Z Axis"
          },
          "type": "linear"
         }
        },
        "showlegend": false,
        "template": {
         "data": {
          "bar": [
           {
            "error_x": {
             "color": "#2a3f5f"
            },
            "error_y": {
             "color": "#2a3f5f"
            },
            "marker": {
             "line": {
              "color": "#E5ECF6",
              "width": 0.5
             },
             "pattern": {
              "fillmode": "overlay",
              "size": 10,
              "solidity": 0.2
             }
            },
            "type": "bar"
           }
          ],
          "barpolar": [
           {
            "marker": {
             "line": {
              "color": "#E5ECF6",
              "width": 0.5
             },
             "pattern": {
              "fillmode": "overlay",
              "size": 10,
              "solidity": 0.2
             }
            },
            "type": "barpolar"
           }
          ],
          "carpet": [
           {
            "aaxis": {
             "endlinecolor": "#2a3f5f",
             "gridcolor": "white",
             "linecolor": "white",
             "minorgridcolor": "white",
             "startlinecolor": "#2a3f5f"
            },
            "baxis": {
             "endlinecolor": "#2a3f5f",
             "gridcolor": "white",
             "linecolor": "white",
             "minorgridcolor": "white",
             "startlinecolor": "#2a3f5f"
            },
            "type": "carpet"
           }
          ],
          "choropleth": [
           {
            "colorbar": {
             "outlinewidth": 0,
             "ticks": ""
            },
            "type": "choropleth"
           }
          ],
          "contour": [
           {
            "colorbar": {
             "outlinewidth": 0,
             "ticks": ""
            },
            "colorscale": [
             [
              0,
              "#0d0887"
             ],
             [
              0.1111111111111111,
              "#46039f"
             ],
             [
              0.2222222222222222,
              "#7201a8"
             ],
             [
              0.3333333333333333,
              "#9c179e"
             ],
             [
              0.4444444444444444,
              "#bd3786"
             ],
             [
              0.5555555555555556,
              "#d8576b"
             ],
             [
              0.6666666666666666,
              "#ed7953"
             ],
             [
              0.7777777777777778,
              "#fb9f3a"
             ],
             [
              0.8888888888888888,
              "#fdca26"
             ],
             [
              1,
              "#f0f921"
             ]
            ],
            "type": "contour"
           }
          ],
          "contourcarpet": [
           {
            "colorbar": {
             "outlinewidth": 0,
             "ticks": ""
            },
            "type": "contourcarpet"
           }
          ],
          "heatmap": [
           {
            "colorbar": {
             "outlinewidth": 0,
             "ticks": ""
            },
            "colorscale": [
             [
              0,
              "#0d0887"
             ],
             [
              0.1111111111111111,
              "#46039f"
             ],
             [
              0.2222222222222222,
              "#7201a8"
             ],
             [
              0.3333333333333333,
              "#9c179e"
             ],
             [
              0.4444444444444444,
              "#bd3786"
             ],
             [
              0.5555555555555556,
              "#d8576b"
             ],
             [
              0.6666666666666666,
              "#ed7953"
             ],
             [
              0.7777777777777778,
              "#fb9f3a"
             ],
             [
              0.8888888888888888,
              "#fdca26"
             ],
             [
              1,
              "#f0f921"
             ]
            ],
            "type": "heatmap"
           }
          ],
          "heatmapgl": [
           {
            "colorbar": {
             "outlinewidth": 0,
             "ticks": ""
            },
            "colorscale": [
             [
              0,
              "#0d0887"
             ],
             [
              0.1111111111111111,
              "#46039f"
             ],
             [
              0.2222222222222222,
              "#7201a8"
             ],
             [
              0.3333333333333333,
              "#9c179e"
             ],
             [
              0.4444444444444444,
              "#bd3786"
             ],
             [
              0.5555555555555556,
              "#d8576b"
             ],
             [
              0.6666666666666666,
              "#ed7953"
             ],
             [
              0.7777777777777778,
              "#fb9f3a"
             ],
             [
              0.8888888888888888,
              "#fdca26"
             ],
             [
              1,
              "#f0f921"
             ]
            ],
            "type": "heatmapgl"
           }
          ],
          "histogram": [
           {
            "marker": {
             "pattern": {
              "fillmode": "overlay",
              "size": 10,
              "solidity": 0.2
             }
            },
            "type": "histogram"
           }
          ],
          "histogram2d": [
           {
            "colorbar": {
             "outlinewidth": 0,
             "ticks": ""
            },
            "colorscale": [
             [
              0,
              "#0d0887"
             ],
             [
              0.1111111111111111,
              "#46039f"
             ],
             [
              0.2222222222222222,
              "#7201a8"
             ],
             [
              0.3333333333333333,
              "#9c179e"
             ],
             [
              0.4444444444444444,
              "#bd3786"
             ],
             [
              0.5555555555555556,
              "#d8576b"
             ],
             [
              0.6666666666666666,
              "#ed7953"
             ],
             [
              0.7777777777777778,
              "#fb9f3a"
             ],
             [
              0.8888888888888888,
              "#fdca26"
             ],
             [
              1,
              "#f0f921"
             ]
            ],
            "type": "histogram2d"
           }
          ],
          "histogram2dcontour": [
           {
            "colorbar": {
             "outlinewidth": 0,
             "ticks": ""
            },
            "colorscale": [
             [
              0,
              "#0d0887"
             ],
             [
              0.1111111111111111,
              "#46039f"
             ],
             [
              0.2222222222222222,
              "#7201a8"
             ],
             [
              0.3333333333333333,
              "#9c179e"
             ],
             [
              0.4444444444444444,
              "#bd3786"
             ],
             [
              0.5555555555555556,
              "#d8576b"
             ],
             [
              0.6666666666666666,
              "#ed7953"
             ],
             [
              0.7777777777777778,
              "#fb9f3a"
             ],
             [
              0.8888888888888888,
              "#fdca26"
             ],
             [
              1,
              "#f0f921"
             ]
            ],
            "type": "histogram2dcontour"
           }
          ],
          "mesh3d": [
           {
            "colorbar": {
             "outlinewidth": 0,
             "ticks": ""
            },
            "type": "mesh3d"
           }
          ],
          "parcoords": [
           {
            "line": {
             "colorbar": {
              "outlinewidth": 0,
              "ticks": ""
             }
            },
            "type": "parcoords"
           }
          ],
          "pie": [
           {
            "automargin": true,
            "type": "pie"
           }
          ],
          "scatter": [
           {
            "fillpattern": {
             "fillmode": "overlay",
             "size": 10,
             "solidity": 0.2
            },
            "type": "scatter"
           }
          ],
          "scatter3d": [
           {
            "line": {
             "colorbar": {
              "outlinewidth": 0,
              "ticks": ""
             }
            },
            "marker": {
             "colorbar": {
              "outlinewidth": 0,
              "ticks": ""
             }
            },
            "type": "scatter3d"
           }
          ],
          "scattercarpet": [
           {
            "marker": {
             "colorbar": {
              "outlinewidth": 0,
              "ticks": ""
             }
            },
            "type": "scattercarpet"
           }
          ],
          "scattergeo": [
           {
            "marker": {
             "colorbar": {
              "outlinewidth": 0,
              "ticks": ""
             }
            },
            "type": "scattergeo"
           }
          ],
          "scattergl": [
           {
            "marker": {
             "colorbar": {
              "outlinewidth": 0,
              "ticks": ""
             }
            },
            "type": "scattergl"
           }
          ],
          "scattermapbox": [
           {
            "marker": {
             "colorbar": {
              "outlinewidth": 0,
              "ticks": ""
             }
            },
            "type": "scattermapbox"
           }
          ],
          "scatterpolar": [
           {
            "marker": {
             "colorbar": {
              "outlinewidth": 0,
              "ticks": ""
             }
            },
            "type": "scatterpolar"
           }
          ],
          "scatterpolargl": [
           {
            "marker": {
             "colorbar": {
              "outlinewidth": 0,
              "ticks": ""
             }
            },
            "type": "scatterpolargl"
           }
          ],
          "scatterternary": [
           {
            "marker": {
             "colorbar": {
              "outlinewidth": 0,
              "ticks": ""
             }
            },
            "type": "scatterternary"
           }
          ],
          "surface": [
           {
            "colorbar": {
             "outlinewidth": 0,
             "ticks": ""
            },
            "colorscale": [
             [
              0,
              "#0d0887"
             ],
             [
              0.1111111111111111,
              "#46039f"
             ],
             [
              0.2222222222222222,
              "#7201a8"
             ],
             [
              0.3333333333333333,
              "#9c179e"
             ],
             [
              0.4444444444444444,
              "#bd3786"
             ],
             [
              0.5555555555555556,
              "#d8576b"
             ],
             [
              0.6666666666666666,
              "#ed7953"
             ],
             [
              0.7777777777777778,
              "#fb9f3a"
             ],
             [
              0.8888888888888888,
              "#fdca26"
             ],
             [
              1,
              "#f0f921"
             ]
            ],
            "type": "surface"
           }
          ],
          "table": [
           {
            "cells": {
             "fill": {
              "color": "#EBF0F8"
             },
             "line": {
              "color": "white"
             }
            },
            "header": {
             "fill": {
              "color": "#C8D4E3"
             },
             "line": {
              "color": "white"
             }
            },
            "type": "table"
           }
          ]
         },
         "layout": {
          "annotationdefaults": {
           "arrowcolor": "#2a3f5f",
           "arrowhead": 0,
           "arrowwidth": 1
          },
          "autotypenumbers": "strict",
          "coloraxis": {
           "colorbar": {
            "outlinewidth": 0,
            "ticks": ""
           }
          },
          "colorscale": {
           "diverging": [
            [
             0,
             "#8e0152"
            ],
            [
             0.1,
             "#c51b7d"
            ],
            [
             0.2,
             "#de77ae"
            ],
            [
             0.3,
             "#f1b6da"
            ],
            [
             0.4,
             "#fde0ef"
            ],
            [
             0.5,
             "#f7f7f7"
            ],
            [
             0.6,
             "#e6f5d0"
            ],
            [
             0.7,
             "#b8e186"
            ],
            [
             0.8,
             "#7fbc41"
            ],
            [
             0.9,
             "#4d9221"
            ],
            [
             1,
             "#276419"
            ]
           ],
           "sequential": [
            [
             0,
             "#0d0887"
            ],
            [
             0.1111111111111111,
             "#46039f"
            ],
            [
             0.2222222222222222,
             "#7201a8"
            ],
            [
             0.3333333333333333,
             "#9c179e"
            ],
            [
             0.4444444444444444,
             "#bd3786"
            ],
            [
             0.5555555555555556,
             "#d8576b"
            ],
            [
             0.6666666666666666,
             "#ed7953"
            ],
            [
             0.7777777777777778,
             "#fb9f3a"
            ],
            [
             0.8888888888888888,
             "#fdca26"
            ],
            [
             1,
             "#f0f921"
            ]
           ],
           "sequentialminus": [
            [
             0,
             "#0d0887"
            ],
            [
             0.1111111111111111,
             "#46039f"
            ],
            [
             0.2222222222222222,
             "#7201a8"
            ],
            [
             0.3333333333333333,
             "#9c179e"
            ],
            [
             0.4444444444444444,
             "#bd3786"
            ],
            [
             0.5555555555555556,
             "#d8576b"
            ],
            [
             0.6666666666666666,
             "#ed7953"
            ],
            [
             0.7777777777777778,
             "#fb9f3a"
            ],
            [
             0.8888888888888888,
             "#fdca26"
            ],
            [
             1,
             "#f0f921"
            ]
           ]
          },
          "colorway": [
           "#636efa",
           "#EF553B",
           "#00cc96",
           "#ab63fa",
           "#FFA15A",
           "#19d3f3",
           "#FF6692",
           "#B6E880",
           "#FF97FF",
           "#FECB52"
          ],
          "font": {
           "color": "#2a3f5f"
          },
          "geo": {
           "bgcolor": "white",
           "lakecolor": "white",
           "landcolor": "#E5ECF6",
           "showlakes": true,
           "showland": true,
           "subunitcolor": "white"
          },
          "hoverlabel": {
           "align": "left"
          },
          "hovermode": "closest",
          "mapbox": {
           "style": "light"
          },
          "paper_bgcolor": "white",
          "plot_bgcolor": "#E5ECF6",
          "polar": {
           "angularaxis": {
            "gridcolor": "white",
            "linecolor": "white",
            "ticks": ""
           },
           "bgcolor": "#E5ECF6",
           "radialaxis": {
            "gridcolor": "white",
            "linecolor": "white",
            "ticks": ""
           }
          },
          "scene": {
           "xaxis": {
            "backgroundcolor": "#E5ECF6",
            "gridcolor": "white",
            "gridwidth": 2,
            "linecolor": "white",
            "showbackground": true,
            "ticks": "",
            "zerolinecolor": "white"
           },
           "yaxis": {
            "backgroundcolor": "#E5ECF6",
            "gridcolor": "white",
            "gridwidth": 2,
            "linecolor": "white",
            "showbackground": true,
            "ticks": "",
            "zerolinecolor": "white"
           },
           "zaxis": {
            "backgroundcolor": "#E5ECF6",
            "gridcolor": "white",
            "gridwidth": 2,
            "linecolor": "white",
            "showbackground": true,
            "ticks": "",
            "zerolinecolor": "white"
           }
          },
          "shapedefaults": {
           "line": {
            "color": "#2a3f5f"
           }
          },
          "ternary": {
           "aaxis": {
            "gridcolor": "white",
            "linecolor": "white",
            "ticks": ""
           },
           "baxis": {
            "gridcolor": "white",
            "linecolor": "white",
            "ticks": ""
           },
           "bgcolor": "#E5ECF6",
           "caxis": {
            "gridcolor": "white",
            "linecolor": "white",
            "ticks": ""
           }
          },
          "title": {
           "x": 0.05
          },
          "xaxis": {
           "automargin": true,
           "gridcolor": "white",
           "linecolor": "white",
           "ticks": "",
           "title": {
            "standoff": 15
           },
           "zerolinecolor": "white",
           "zerolinewidth": 2
          },
          "yaxis": {
           "automargin": true,
           "gridcolor": "white",
           "linecolor": "white",
           "ticks": "",
           "title": {
            "standoff": 15
           },
           "zerolinecolor": "white",
           "zerolinewidth": 2
          }
         }
        },
        "title": {
         "text": "3D Visualization of Protein Folding on a Lattice With Amino Acid Parameters"
        }
       }
      },
      "text/html": [
       "<div>                            <div id=\"0078dfc5-67e5-44f9-9ea5-6cc882ed5e4a\" class=\"plotly-graph-div\" style=\"height:525px; width:100%;\"></div>            <script type=\"text/javascript\">                require([\"plotly\"], function(Plotly) {                    window.PLOTLYENV=window.PLOTLYENV || {};                                    if (document.getElementById(\"0078dfc5-67e5-44f9-9ea5-6cc882ed5e4a\")) {                    Plotly.newPlot(                        \"0078dfc5-67e5-44f9-9ea5-6cc882ed5e4a\",                        [{\"marker\":{\"color\":\"blue\",\"size\":5},\"mode\":\"markers+text\",\"text\":[\"W\",\"V\",\"Y\",\"T\",\"S\",\"R\",\"Q\",\"A\",\"P\",\"C\",\"N\",\"D\",\"M\",\"G\",\"F\",\"E\",\"L\",\"I\",\"H\",\"K\"],\"textposition\":\"top center\",\"x\":[8,9,9,10,10,10,10,10,10,10,10,10,10,10,10,10,10,10,10,10],\"y\":[10,10,10,10,10,10,10,10,11,11,12,12,13,13,13,13,14,14,14,15],\"z\":[4,4,5,4,5,6,7,10,7,10,6,10,6,8,9,10,5,6,7,5],\"type\":\"scatter3d\"},{\"line\":{\"color\":\"red\",\"width\":2},\"mode\":\"lines\",\"x\":[8,9,9,10,10,10,10,10,10,10,10,10,10,10,10,10,10,10,10,10],\"y\":[10,10,10,10,10,10,10,10,11,11,12,12,13,13,13,13,14,14,14,15],\"z\":[4,4,5,4,5,6,7,10,7,10,6,10,6,8,9,10,5,6,7,5],\"type\":\"scatter3d\"}],                        {\"template\":{\"data\":{\"histogram2dcontour\":[{\"type\":\"histogram2dcontour\",\"colorbar\":{\"outlinewidth\":0,\"ticks\":\"\"},\"colorscale\":[[0.0,\"#0d0887\"],[0.1111111111111111,\"#46039f\"],[0.2222222222222222,\"#7201a8\"],[0.3333333333333333,\"#9c179e\"],[0.4444444444444444,\"#bd3786\"],[0.5555555555555556,\"#d8576b\"],[0.6666666666666666,\"#ed7953\"],[0.7777777777777778,\"#fb9f3a\"],[0.8888888888888888,\"#fdca26\"],[1.0,\"#f0f921\"]]}],\"choropleth\":[{\"type\":\"choropleth\",\"colorbar\":{\"outlinewidth\":0,\"ticks\":\"\"}}],\"histogram2d\":[{\"type\":\"histogram2d\",\"colorbar\":{\"outlinewidth\":0,\"ticks\":\"\"},\"colorscale\":[[0.0,\"#0d0887\"],[0.1111111111111111,\"#46039f\"],[0.2222222222222222,\"#7201a8\"],[0.3333333333333333,\"#9c179e\"],[0.4444444444444444,\"#bd3786\"],[0.5555555555555556,\"#d8576b\"],[0.6666666666666666,\"#ed7953\"],[0.7777777777777778,\"#fb9f3a\"],[0.8888888888888888,\"#fdca26\"],[1.0,\"#f0f921\"]]}],\"heatmap\":[{\"type\":\"heatmap\",\"colorbar\":{\"outlinewidth\":0,\"ticks\":\"\"},\"colorscale\":[[0.0,\"#0d0887\"],[0.1111111111111111,\"#46039f\"],[0.2222222222222222,\"#7201a8\"],[0.3333333333333333,\"#9c179e\"],[0.4444444444444444,\"#bd3786\"],[0.5555555555555556,\"#d8576b\"],[0.6666666666666666,\"#ed7953\"],[0.7777777777777778,\"#fb9f3a\"],[0.8888888888888888,\"#fdca26\"],[1.0,\"#f0f921\"]]}],\"heatmapgl\":[{\"type\":\"heatmapgl\",\"colorbar\":{\"outlinewidth\":0,\"ticks\":\"\"},\"colorscale\":[[0.0,\"#0d0887\"],[0.1111111111111111,\"#46039f\"],[0.2222222222222222,\"#7201a8\"],[0.3333333333333333,\"#9c179e\"],[0.4444444444444444,\"#bd3786\"],[0.5555555555555556,\"#d8576b\"],[0.6666666666666666,\"#ed7953\"],[0.7777777777777778,\"#fb9f3a\"],[0.8888888888888888,\"#fdca26\"],[1.0,\"#f0f921\"]]}],\"contourcarpet\":[{\"type\":\"contourcarpet\",\"colorbar\":{\"outlinewidth\":0,\"ticks\":\"\"}}],\"contour\":[{\"type\":\"contour\",\"colorbar\":{\"outlinewidth\":0,\"ticks\":\"\"},\"colorscale\":[[0.0,\"#0d0887\"],[0.1111111111111111,\"#46039f\"],[0.2222222222222222,\"#7201a8\"],[0.3333333333333333,\"#9c179e\"],[0.4444444444444444,\"#bd3786\"],[0.5555555555555556,\"#d8576b\"],[0.6666666666666666,\"#ed7953\"],[0.7777777777777778,\"#fb9f3a\"],[0.8888888888888888,\"#fdca26\"],[1.0,\"#f0f921\"]]}],\"surface\":[{\"type\":\"surface\",\"colorbar\":{\"outlinewidth\":0,\"ticks\":\"\"},\"colorscale\":[[0.0,\"#0d0887\"],[0.1111111111111111,\"#46039f\"],[0.2222222222222222,\"#7201a8\"],[0.3333333333333333,\"#9c179e\"],[0.4444444444444444,\"#bd3786\"],[0.5555555555555556,\"#d8576b\"],[0.6666666666666666,\"#ed7953\"],[0.7777777777777778,\"#fb9f3a\"],[0.8888888888888888,\"#fdca26\"],[1.0,\"#f0f921\"]]}],\"mesh3d\":[{\"type\":\"mesh3d\",\"colorbar\":{\"outlinewidth\":0,\"ticks\":\"\"}}],\"scatter\":[{\"fillpattern\":{\"fillmode\":\"overlay\",\"size\":10,\"solidity\":0.2},\"type\":\"scatter\"}],\"parcoords\":[{\"type\":\"parcoords\",\"line\":{\"colorbar\":{\"outlinewidth\":0,\"ticks\":\"\"}}}],\"scatterpolargl\":[{\"type\":\"scatterpolargl\",\"marker\":{\"colorbar\":{\"outlinewidth\":0,\"ticks\":\"\"}}}],\"bar\":[{\"error_x\":{\"color\":\"#2a3f5f\"},\"error_y\":{\"color\":\"#2a3f5f\"},\"marker\":{\"line\":{\"color\":\"#E5ECF6\",\"width\":0.5},\"pattern\":{\"fillmode\":\"overlay\",\"size\":10,\"solidity\":0.2}},\"type\":\"bar\"}],\"scattergeo\":[{\"type\":\"scattergeo\",\"marker\":{\"colorbar\":{\"outlinewidth\":0,\"ticks\":\"\"}}}],\"scatterpolar\":[{\"type\":\"scatterpolar\",\"marker\":{\"colorbar\":{\"outlinewidth\":0,\"ticks\":\"\"}}}],\"histogram\":[{\"marker\":{\"pattern\":{\"fillmode\":\"overlay\",\"size\":10,\"solidity\":0.2}},\"type\":\"histogram\"}],\"scattergl\":[{\"type\":\"scattergl\",\"marker\":{\"colorbar\":{\"outlinewidth\":0,\"ticks\":\"\"}}}],\"scatter3d\":[{\"type\":\"scatter3d\",\"line\":{\"colorbar\":{\"outlinewidth\":0,\"ticks\":\"\"}},\"marker\":{\"colorbar\":{\"outlinewidth\":0,\"ticks\":\"\"}}}],\"scattermapbox\":[{\"type\":\"scattermapbox\",\"marker\":{\"colorbar\":{\"outlinewidth\":0,\"ticks\":\"\"}}}],\"scatterternary\":[{\"type\":\"scatterternary\",\"marker\":{\"colorbar\":{\"outlinewidth\":0,\"ticks\":\"\"}}}],\"scattercarpet\":[{\"type\":\"scattercarpet\",\"marker\":{\"colorbar\":{\"outlinewidth\":0,\"ticks\":\"\"}}}],\"carpet\":[{\"aaxis\":{\"endlinecolor\":\"#2a3f5f\",\"gridcolor\":\"white\",\"linecolor\":\"white\",\"minorgridcolor\":\"white\",\"startlinecolor\":\"#2a3f5f\"},\"baxis\":{\"endlinecolor\":\"#2a3f5f\",\"gridcolor\":\"white\",\"linecolor\":\"white\",\"minorgridcolor\":\"white\",\"startlinecolor\":\"#2a3f5f\"},\"type\":\"carpet\"}],\"table\":[{\"cells\":{\"fill\":{\"color\":\"#EBF0F8\"},\"line\":{\"color\":\"white\"}},\"header\":{\"fill\":{\"color\":\"#C8D4E3\"},\"line\":{\"color\":\"white\"}},\"type\":\"table\"}],\"barpolar\":[{\"marker\":{\"line\":{\"color\":\"#E5ECF6\",\"width\":0.5},\"pattern\":{\"fillmode\":\"overlay\",\"size\":10,\"solidity\":0.2}},\"type\":\"barpolar\"}],\"pie\":[{\"automargin\":true,\"type\":\"pie\"}]},\"layout\":{\"autotypenumbers\":\"strict\",\"colorway\":[\"#636efa\",\"#EF553B\",\"#00cc96\",\"#ab63fa\",\"#FFA15A\",\"#19d3f3\",\"#FF6692\",\"#B6E880\",\"#FF97FF\",\"#FECB52\"],\"font\":{\"color\":\"#2a3f5f\"},\"hovermode\":\"closest\",\"hoverlabel\":{\"align\":\"left\"},\"paper_bgcolor\":\"white\",\"plot_bgcolor\":\"#E5ECF6\",\"polar\":{\"bgcolor\":\"#E5ECF6\",\"angularaxis\":{\"gridcolor\":\"white\",\"linecolor\":\"white\",\"ticks\":\"\"},\"radialaxis\":{\"gridcolor\":\"white\",\"linecolor\":\"white\",\"ticks\":\"\"}},\"ternary\":{\"bgcolor\":\"#E5ECF6\",\"aaxis\":{\"gridcolor\":\"white\",\"linecolor\":\"white\",\"ticks\":\"\"},\"baxis\":{\"gridcolor\":\"white\",\"linecolor\":\"white\",\"ticks\":\"\"},\"caxis\":{\"gridcolor\":\"white\",\"linecolor\":\"white\",\"ticks\":\"\"}},\"coloraxis\":{\"colorbar\":{\"outlinewidth\":0,\"ticks\":\"\"}},\"colorscale\":{\"sequential\":[[0.0,\"#0d0887\"],[0.1111111111111111,\"#46039f\"],[0.2222222222222222,\"#7201a8\"],[0.3333333333333333,\"#9c179e\"],[0.4444444444444444,\"#bd3786\"],[0.5555555555555556,\"#d8576b\"],[0.6666666666666666,\"#ed7953\"],[0.7777777777777778,\"#fb9f3a\"],[0.8888888888888888,\"#fdca26\"],[1.0,\"#f0f921\"]],\"sequentialminus\":[[0.0,\"#0d0887\"],[0.1111111111111111,\"#46039f\"],[0.2222222222222222,\"#7201a8\"],[0.3333333333333333,\"#9c179e\"],[0.4444444444444444,\"#bd3786\"],[0.5555555555555556,\"#d8576b\"],[0.6666666666666666,\"#ed7953\"],[0.7777777777777778,\"#fb9f3a\"],[0.8888888888888888,\"#fdca26\"],[1.0,\"#f0f921\"]],\"diverging\":[[0,\"#8e0152\"],[0.1,\"#c51b7d\"],[0.2,\"#de77ae\"],[0.3,\"#f1b6da\"],[0.4,\"#fde0ef\"],[0.5,\"#f7f7f7\"],[0.6,\"#e6f5d0\"],[0.7,\"#b8e186\"],[0.8,\"#7fbc41\"],[0.9,\"#4d9221\"],[1,\"#276419\"]]},\"xaxis\":{\"gridcolor\":\"white\",\"linecolor\":\"white\",\"ticks\":\"\",\"title\":{\"standoff\":15},\"zerolinecolor\":\"white\",\"automargin\":true,\"zerolinewidth\":2},\"yaxis\":{\"gridcolor\":\"white\",\"linecolor\":\"white\",\"ticks\":\"\",\"title\":{\"standoff\":15},\"zerolinecolor\":\"white\",\"automargin\":true,\"zerolinewidth\":2},\"scene\":{\"xaxis\":{\"backgroundcolor\":\"#E5ECF6\",\"gridcolor\":\"white\",\"linecolor\":\"white\",\"showbackground\":true,\"ticks\":\"\",\"zerolinecolor\":\"white\",\"gridwidth\":2},\"yaxis\":{\"backgroundcolor\":\"#E5ECF6\",\"gridcolor\":\"white\",\"linecolor\":\"white\",\"showbackground\":true,\"ticks\":\"\",\"zerolinecolor\":\"white\",\"gridwidth\":2},\"zaxis\":{\"backgroundcolor\":\"#E5ECF6\",\"gridcolor\":\"white\",\"linecolor\":\"white\",\"showbackground\":true,\"ticks\":\"\",\"zerolinecolor\":\"white\",\"gridwidth\":2}},\"shapedefaults\":{\"line\":{\"color\":\"#2a3f5f\"}},\"annotationdefaults\":{\"arrowcolor\":\"#2a3f5f\",\"arrowhead\":0,\"arrowwidth\":1},\"geo\":{\"bgcolor\":\"white\",\"landcolor\":\"#E5ECF6\",\"subunitcolor\":\"white\",\"showland\":true,\"showlakes\":true,\"lakecolor\":\"white\"},\"title\":{\"x\":0.05},\"mapbox\":{\"style\":\"light\"}}},\"scene\":{\"xaxis\":{\"title\":{\"text\":\"X Axis\"},\"showbackground\":true,\"backgroundcolor\":\"rgb(230, 230,230)\"},\"yaxis\":{\"title\":{\"text\":\"Y Axis\"},\"showbackground\":true,\"backgroundcolor\":\"rgb(230, 230,230)\"},\"zaxis\":{\"title\":{\"text\":\"Z Axis\"},\"showbackground\":true,\"backgroundcolor\":\"rgb(230, 230,230)\"}},\"title\":{\"text\":\"3D Visualization of Protein Folding on a Lattice With Amino Acid Parameters\"},\"showlegend\":false},                        {\"responsive\": true}                    ).then(function(){\n",
       "                            \n",
       "var gd = document.getElementById('0078dfc5-67e5-44f9-9ea5-6cc882ed5e4a');\n",
       "var x = new MutationObserver(function (mutations, observer) {{\n",
       "        var display = window.getComputedStyle(gd).display;\n",
       "        if (!display || display === 'none') {{\n",
       "            console.log([gd, 'removed!']);\n",
       "            Plotly.purge(gd);\n",
       "            observer.disconnect();\n",
       "        }}\n",
       "}});\n",
       "\n",
       "// Listen for the removal of the full notebook cells\n",
       "var notebookContainer = gd.closest('#notebook-container');\n",
       "if (notebookContainer) {{\n",
       "    x.observe(notebookContainer, {childList: true});\n",
       "}}\n",
       "\n",
       "// Listen for the clearing of the current output cell\n",
       "var outputEl = gd.closest('.output');\n",
       "if (outputEl) {{\n",
       "    x.observe(outputEl, {childList: true});\n",
       "}}\n",
       "\n",
       "                        })                };                });            </script>        </div>"
      ]
     },
     "metadata": {},
     "output_type": "display_data"
    }
   ],
   "source": [
    "indices = np.where(grid != '')\n",
    "x, y, z = indices[0], indices[1], indices[2] \n",
    "labels = grid[x, y, z]\n",
    "\n",
    "fig1 = go.Figure()\n",
    "\n",
    "fig1.add_trace(go.Scatter3d(\n",
    "    x=x, y=y, z=z,\n",
    "    mode='markers+text',\n",
    "    marker=dict(\n",
    "        size=5,\n",
    "        color='blue',\n",
    "    ),\n",
    "    text=labels,  \n",
    "    textposition=\"top center\"\n",
    "))\n",
    "\n",
    "fig1.add_trace(go.Scatter3d( # Adding lines to connect points\n",
    "    x=x, y=y, z=z,\n",
    "    mode='lines',\n",
    "    line=dict(\n",
    "        color='red', \n",
    "        width=2\n",
    "    )\n",
    "))\n",
    "\n",
    "fig1.update_layout(\n",
    "    title='3D Visualization of Protein Folding on a Lattice With Amino Acid Parameters',\n",
    "    scene=dict(\n",
    "        xaxis_title='X Axis',\n",
    "        yaxis_title='Y Axis',\n",
    "        zaxis_title='Z Axis',\n",
    "        xaxis=dict(showbackground=True, backgroundcolor=\"rgb(230, 230,230)\"),\n",
    "        yaxis=dict(showbackground=True, backgroundcolor=\"rgb(230, 230,230)\"),\n",
    "        zaxis=dict(showbackground=True, backgroundcolor=\"rgb(230, 230,230)\")\n",
    "    ),\n",
    "    showlegend=False\n",
    ")\n",
    "\n",
    "fig1.show()\n"
   ]
  },
  {
   "cell_type": "markdown",
   "id": "38649542-93d7-41e1-be3f-0325da2aa33d",
   "metadata": {},
   "source": [
    "        From the rotatable visualization, it appears as if the structure the wall and is forced to move upwards. While that is not what I expected (the structure never seems to turn around), the parameters do indeed seem to guide it in a more directional manner. My attempt at incorporating the tendency for particular amino acids to turn inwards or outwards doesn't seem to be captured in the model. I am going to try and model a larger randomized amino acid sequence to see what happens next."
   ]
  },
  {
   "cell_type": "code",
   "execution_count": 466,
   "id": "17697cd6-c333-4ee7-8616-f546fbdfc894",
   "metadata": {
    "tags": []
   },
   "outputs": [
    {
     "data": {
      "application/vnd.plotly.v1+json": {
       "config": {
        "plotlyServerURL": "https://plot.ly"
       },
       "data": [
        {
         "marker": {
          "color": "blue",
          "size": 5
         },
         "mode": "markers+text",
         "text": [
          "L",
          "T",
          "I",
          "C",
          "D",
          "W",
          "Q",
          "W",
          "D",
          "F",
          "Q",
          "E",
          "K",
          "I",
          "F",
          "M",
          "Y",
          "K",
          "S",
          "W",
          "R",
          "D",
          "G",
          "I",
          "M",
          "S",
          "F",
          "T",
          "V",
          "F",
          "K",
          "G",
          "E",
          "Y",
          "N",
          "F",
          "Q",
          "S",
          "A",
          "G",
          "Q",
          "I",
          "T",
          "K",
          "R",
          "N",
          "C",
          "R",
          "G",
          "D",
          "G",
          "K",
          "V",
          "H",
          "D",
          "W",
          "I",
          "L",
          "R",
          "M",
          "Y",
          "V",
          "M",
          "V",
          "F",
          "K",
          "H",
          "P",
          "Q",
          "V",
          "W",
          "Y",
          "N",
          "C",
          "E",
          "V",
          "C",
          "T",
          "T",
          "G",
          "D",
          "W",
          "Y",
          "P",
          "K",
          "F",
          "T",
          "H",
          "A",
          "D",
          "I",
          "P",
          "M",
          "E",
          "W",
          "W",
          "T",
          "L",
          "P",
          "Q"
         ],
         "textposition": "top center",
         "type": "scatter3d",
         "x": [
          14,
          14,
          15,
          15,
          15,
          16,
          16,
          16,
          16,
          16,
          16,
          17,
          17,
          17,
          17,
          17,
          17,
          17,
          18,
          18,
          18,
          18,
          18,
          18,
          18,
          18,
          18,
          18,
          18,
          18,
          19,
          19,
          19,
          19,
          19,
          19,
          19,
          19,
          19,
          19,
          20,
          20,
          20,
          20,
          20,
          20,
          20,
          20,
          20,
          21,
          21,
          21,
          21,
          21,
          22,
          22,
          22,
          22,
          23,
          24,
          25,
          25,
          25,
          25,
          26,
          26,
          27,
          27,
          27,
          28,
          28,
          28,
          28,
          29,
          29,
          29,
          29,
          29,
          30,
          30,
          30,
          31,
          31,
          31,
          31,
          32,
          32,
          32,
          32,
          33,
          33,
          33,
          33,
          34,
          34,
          34,
          34,
          35,
          35,
          35
         ],
         "y": [
          17,
          17,
          18,
          18,
          25,
          17,
          18,
          19,
          20,
          25,
          25,
          17,
          18,
          18,
          19,
          21,
          25,
          25,
          17,
          17,
          18,
          19,
          19,
          22,
          25,
          25,
          25,
          25,
          26,
          26,
          18,
          18,
          19,
          23,
          25,
          25,
          25,
          25,
          26,
          26,
          19,
          19,
          20,
          23,
          25,
          25,
          25,
          25,
          26,
          20,
          24,
          25,
          25,
          25,
          21,
          21,
          25,
          25,
          22,
          23,
          23,
          23,
          24,
          25,
          23,
          25,
          22,
          23,
          25,
          22,
          23,
          24,
          25,
          21,
          22,
          24,
          25,
          25,
          21,
          25,
          25,
          25,
          25,
          25,
          25,
          25,
          25,
          25,
          26,
          25,
          26,
          26,
          27,
          25,
          26,
          26,
          27,
          26,
          26,
          27
         ],
         "z": [
          16,
          17,
          17,
          18,
          18,
          19,
          18,
          18,
          18,
          18,
          19,
          19,
          19,
          20,
          19,
          19,
          19,
          20,
          19,
          20,
          20,
          20,
          21,
          20,
          18,
          19,
          20,
          21,
          18,
          19,
          20,
          21,
          21,
          21,
          18,
          19,
          20,
          22,
          18,
          21,
          21,
          22,
          22,
          21,
          19,
          21,
          22,
          23,
          21,
          22,
          22,
          22,
          23,
          24,
          22,
          23,
          23,
          24,
          23,
          24,
          24,
          25,
          25,
          25,
          25,
          25,
          24,
          24,
          25,
          23,
          24,
          24,
          25,
          22,
          23,
          24,
          24,
          25,
          22,
          23,
          25,
          22,
          23,
          24,
          25,
          21,
          22,
          25,
          23,
          25,
          23,
          24,
          22,
          25,
          24,
          25,
          22,
          24,
          25,
          25
         ]
        },
        {
         "line": {
          "color": "red",
          "width": 2
         },
         "mode": "lines",
         "type": "scatter3d",
         "x": [
          14,
          14,
          15,
          15,
          15,
          16,
          16,
          16,
          16,
          16,
          16,
          17,
          17,
          17,
          17,
          17,
          17,
          17,
          18,
          18,
          18,
          18,
          18,
          18,
          18,
          18,
          18,
          18,
          18,
          18,
          19,
          19,
          19,
          19,
          19,
          19,
          19,
          19,
          19,
          19,
          20,
          20,
          20,
          20,
          20,
          20,
          20,
          20,
          20,
          21,
          21,
          21,
          21,
          21,
          22,
          22,
          22,
          22,
          23,
          24,
          25,
          25,
          25,
          25,
          26,
          26,
          27,
          27,
          27,
          28,
          28,
          28,
          28,
          29,
          29,
          29,
          29,
          29,
          30,
          30,
          30,
          31,
          31,
          31,
          31,
          32,
          32,
          32,
          32,
          33,
          33,
          33,
          33,
          34,
          34,
          34,
          34,
          35,
          35,
          35
         ],
         "y": [
          17,
          17,
          18,
          18,
          25,
          17,
          18,
          19,
          20,
          25,
          25,
          17,
          18,
          18,
          19,
          21,
          25,
          25,
          17,
          17,
          18,
          19,
          19,
          22,
          25,
          25,
          25,
          25,
          26,
          26,
          18,
          18,
          19,
          23,
          25,
          25,
          25,
          25,
          26,
          26,
          19,
          19,
          20,
          23,
          25,
          25,
          25,
          25,
          26,
          20,
          24,
          25,
          25,
          25,
          21,
          21,
          25,
          25,
          22,
          23,
          23,
          23,
          24,
          25,
          23,
          25,
          22,
          23,
          25,
          22,
          23,
          24,
          25,
          21,
          22,
          24,
          25,
          25,
          21,
          25,
          25,
          25,
          25,
          25,
          25,
          25,
          25,
          25,
          26,
          25,
          26,
          26,
          27,
          25,
          26,
          26,
          27,
          26,
          26,
          27
         ],
         "z": [
          16,
          17,
          17,
          18,
          18,
          19,
          18,
          18,
          18,
          18,
          19,
          19,
          19,
          20,
          19,
          19,
          19,
          20,
          19,
          20,
          20,
          20,
          21,
          20,
          18,
          19,
          20,
          21,
          18,
          19,
          20,
          21,
          21,
          21,
          18,
          19,
          20,
          22,
          18,
          21,
          21,
          22,
          22,
          21,
          19,
          21,
          22,
          23,
          21,
          22,
          22,
          22,
          23,
          24,
          22,
          23,
          23,
          24,
          23,
          24,
          24,
          25,
          25,
          25,
          25,
          25,
          24,
          24,
          25,
          23,
          24,
          24,
          25,
          22,
          23,
          24,
          24,
          25,
          22,
          23,
          25,
          22,
          23,
          24,
          25,
          21,
          22,
          25,
          23,
          25,
          23,
          24,
          22,
          25,
          24,
          25,
          22,
          24,
          25,
          25
         ]
        }
       ],
       "layout": {
        "autosize": true,
        "height": 360,
        "scene": {
         "aspectmode": "auto",
         "aspectratio": {
          "x": 1.6984992522418112,
          "y": 0.8088091677341958,
          "z": 0.7279282509607762
         },
         "xaxis": {
          "backgroundcolor": "rgb(230, 230,230)",
          "showbackground": true,
          "title": {
           "text": "X Axis"
          },
          "type": "linear"
         },
         "yaxis": {
          "backgroundcolor": "rgb(230, 230,230)",
          "showbackground": true,
          "title": {
           "text": "Y Axis"
          },
          "type": "linear"
         },
         "zaxis": {
          "backgroundcolor": "rgb(230, 230,230)",
          "showbackground": true,
          "title": {
           "text": "Z Axis"
          },
          "type": "linear"
         }
        },
        "showlegend": false,
        "template": {
         "data": {
          "bar": [
           {
            "error_x": {
             "color": "#2a3f5f"
            },
            "error_y": {
             "color": "#2a3f5f"
            },
            "marker": {
             "line": {
              "color": "#E5ECF6",
              "width": 0.5
             },
             "pattern": {
              "fillmode": "overlay",
              "size": 10,
              "solidity": 0.2
             }
            },
            "type": "bar"
           }
          ],
          "barpolar": [
           {
            "marker": {
             "line": {
              "color": "#E5ECF6",
              "width": 0.5
             },
             "pattern": {
              "fillmode": "overlay",
              "size": 10,
              "solidity": 0.2
             }
            },
            "type": "barpolar"
           }
          ],
          "carpet": [
           {
            "aaxis": {
             "endlinecolor": "#2a3f5f",
             "gridcolor": "white",
             "linecolor": "white",
             "minorgridcolor": "white",
             "startlinecolor": "#2a3f5f"
            },
            "baxis": {
             "endlinecolor": "#2a3f5f",
             "gridcolor": "white",
             "linecolor": "white",
             "minorgridcolor": "white",
             "startlinecolor": "#2a3f5f"
            },
            "type": "carpet"
           }
          ],
          "choropleth": [
           {
            "colorbar": {
             "outlinewidth": 0,
             "ticks": ""
            },
            "type": "choropleth"
           }
          ],
          "contour": [
           {
            "colorbar": {
             "outlinewidth": 0,
             "ticks": ""
            },
            "colorscale": [
             [
              0,
              "#0d0887"
             ],
             [
              0.1111111111111111,
              "#46039f"
             ],
             [
              0.2222222222222222,
              "#7201a8"
             ],
             [
              0.3333333333333333,
              "#9c179e"
             ],
             [
              0.4444444444444444,
              "#bd3786"
             ],
             [
              0.5555555555555556,
              "#d8576b"
             ],
             [
              0.6666666666666666,
              "#ed7953"
             ],
             [
              0.7777777777777778,
              "#fb9f3a"
             ],
             [
              0.8888888888888888,
              "#fdca26"
             ],
             [
              1,
              "#f0f921"
             ]
            ],
            "type": "contour"
           }
          ],
          "contourcarpet": [
           {
            "colorbar": {
             "outlinewidth": 0,
             "ticks": ""
            },
            "type": "contourcarpet"
           }
          ],
          "heatmap": [
           {
            "colorbar": {
             "outlinewidth": 0,
             "ticks": ""
            },
            "colorscale": [
             [
              0,
              "#0d0887"
             ],
             [
              0.1111111111111111,
              "#46039f"
             ],
             [
              0.2222222222222222,
              "#7201a8"
             ],
             [
              0.3333333333333333,
              "#9c179e"
             ],
             [
              0.4444444444444444,
              "#bd3786"
             ],
             [
              0.5555555555555556,
              "#d8576b"
             ],
             [
              0.6666666666666666,
              "#ed7953"
             ],
             [
              0.7777777777777778,
              "#fb9f3a"
             ],
             [
              0.8888888888888888,
              "#fdca26"
             ],
             [
              1,
              "#f0f921"
             ]
            ],
            "type": "heatmap"
           }
          ],
          "heatmapgl": [
           {
            "colorbar": {
             "outlinewidth": 0,
             "ticks": ""
            },
            "colorscale": [
             [
              0,
              "#0d0887"
             ],
             [
              0.1111111111111111,
              "#46039f"
             ],
             [
              0.2222222222222222,
              "#7201a8"
             ],
             [
              0.3333333333333333,
              "#9c179e"
             ],
             [
              0.4444444444444444,
              "#bd3786"
             ],
             [
              0.5555555555555556,
              "#d8576b"
             ],
             [
              0.6666666666666666,
              "#ed7953"
             ],
             [
              0.7777777777777778,
              "#fb9f3a"
             ],
             [
              0.8888888888888888,
              "#fdca26"
             ],
             [
              1,
              "#f0f921"
             ]
            ],
            "type": "heatmapgl"
           }
          ],
          "histogram": [
           {
            "marker": {
             "pattern": {
              "fillmode": "overlay",
              "size": 10,
              "solidity": 0.2
             }
            },
            "type": "histogram"
           }
          ],
          "histogram2d": [
           {
            "colorbar": {
             "outlinewidth": 0,
             "ticks": ""
            },
            "colorscale": [
             [
              0,
              "#0d0887"
             ],
             [
              0.1111111111111111,
              "#46039f"
             ],
             [
              0.2222222222222222,
              "#7201a8"
             ],
             [
              0.3333333333333333,
              "#9c179e"
             ],
             [
              0.4444444444444444,
              "#bd3786"
             ],
             [
              0.5555555555555556,
              "#d8576b"
             ],
             [
              0.6666666666666666,
              "#ed7953"
             ],
             [
              0.7777777777777778,
              "#fb9f3a"
             ],
             [
              0.8888888888888888,
              "#fdca26"
             ],
             [
              1,
              "#f0f921"
             ]
            ],
            "type": "histogram2d"
           }
          ],
          "histogram2dcontour": [
           {
            "colorbar": {
             "outlinewidth": 0,
             "ticks": ""
            },
            "colorscale": [
             [
              0,
              "#0d0887"
             ],
             [
              0.1111111111111111,
              "#46039f"
             ],
             [
              0.2222222222222222,
              "#7201a8"
             ],
             [
              0.3333333333333333,
              "#9c179e"
             ],
             [
              0.4444444444444444,
              "#bd3786"
             ],
             [
              0.5555555555555556,
              "#d8576b"
             ],
             [
              0.6666666666666666,
              "#ed7953"
             ],
             [
              0.7777777777777778,
              "#fb9f3a"
             ],
             [
              0.8888888888888888,
              "#fdca26"
             ],
             [
              1,
              "#f0f921"
             ]
            ],
            "type": "histogram2dcontour"
           }
          ],
          "mesh3d": [
           {
            "colorbar": {
             "outlinewidth": 0,
             "ticks": ""
            },
            "type": "mesh3d"
           }
          ],
          "parcoords": [
           {
            "line": {
             "colorbar": {
              "outlinewidth": 0,
              "ticks": ""
             }
            },
            "type": "parcoords"
           }
          ],
          "pie": [
           {
            "automargin": true,
            "type": "pie"
           }
          ],
          "scatter": [
           {
            "fillpattern": {
             "fillmode": "overlay",
             "size": 10,
             "solidity": 0.2
            },
            "type": "scatter"
           }
          ],
          "scatter3d": [
           {
            "line": {
             "colorbar": {
              "outlinewidth": 0,
              "ticks": ""
             }
            },
            "marker": {
             "colorbar": {
              "outlinewidth": 0,
              "ticks": ""
             }
            },
            "type": "scatter3d"
           }
          ],
          "scattercarpet": [
           {
            "marker": {
             "colorbar": {
              "outlinewidth": 0,
              "ticks": ""
             }
            },
            "type": "scattercarpet"
           }
          ],
          "scattergeo": [
           {
            "marker": {
             "colorbar": {
              "outlinewidth": 0,
              "ticks": ""
             }
            },
            "type": "scattergeo"
           }
          ],
          "scattergl": [
           {
            "marker": {
             "colorbar": {
              "outlinewidth": 0,
              "ticks": ""
             }
            },
            "type": "scattergl"
           }
          ],
          "scattermapbox": [
           {
            "marker": {
             "colorbar": {
              "outlinewidth": 0,
              "ticks": ""
             }
            },
            "type": "scattermapbox"
           }
          ],
          "scatterpolar": [
           {
            "marker": {
             "colorbar": {
              "outlinewidth": 0,
              "ticks": ""
             }
            },
            "type": "scatterpolar"
           }
          ],
          "scatterpolargl": [
           {
            "marker": {
             "colorbar": {
              "outlinewidth": 0,
              "ticks": ""
             }
            },
            "type": "scatterpolargl"
           }
          ],
          "scatterternary": [
           {
            "marker": {
             "colorbar": {
              "outlinewidth": 0,
              "ticks": ""
             }
            },
            "type": "scatterternary"
           }
          ],
          "surface": [
           {
            "colorbar": {
             "outlinewidth": 0,
             "ticks": ""
            },
            "colorscale": [
             [
              0,
              "#0d0887"
             ],
             [
              0.1111111111111111,
              "#46039f"
             ],
             [
              0.2222222222222222,
              "#7201a8"
             ],
             [
              0.3333333333333333,
              "#9c179e"
             ],
             [
              0.4444444444444444,
              "#bd3786"
             ],
             [
              0.5555555555555556,
              "#d8576b"
             ],
             [
              0.6666666666666666,
              "#ed7953"
             ],
             [
              0.7777777777777778,
              "#fb9f3a"
             ],
             [
              0.8888888888888888,
              "#fdca26"
             ],
             [
              1,
              "#f0f921"
             ]
            ],
            "type": "surface"
           }
          ],
          "table": [
           {
            "cells": {
             "fill": {
              "color": "#EBF0F8"
             },
             "line": {
              "color": "white"
             }
            },
            "header": {
             "fill": {
              "color": "#C8D4E3"
             },
             "line": {
              "color": "white"
             }
            },
            "type": "table"
           }
          ]
         },
         "layout": {
          "annotationdefaults": {
           "arrowcolor": "#2a3f5f",
           "arrowhead": 0,
           "arrowwidth": 1
          },
          "autotypenumbers": "strict",
          "coloraxis": {
           "colorbar": {
            "outlinewidth": 0,
            "ticks": ""
           }
          },
          "colorscale": {
           "diverging": [
            [
             0,
             "#8e0152"
            ],
            [
             0.1,
             "#c51b7d"
            ],
            [
             0.2,
             "#de77ae"
            ],
            [
             0.3,
             "#f1b6da"
            ],
            [
             0.4,
             "#fde0ef"
            ],
            [
             0.5,
             "#f7f7f7"
            ],
            [
             0.6,
             "#e6f5d0"
            ],
            [
             0.7,
             "#b8e186"
            ],
            [
             0.8,
             "#7fbc41"
            ],
            [
             0.9,
             "#4d9221"
            ],
            [
             1,
             "#276419"
            ]
           ],
           "sequential": [
            [
             0,
             "#0d0887"
            ],
            [
             0.1111111111111111,
             "#46039f"
            ],
            [
             0.2222222222222222,
             "#7201a8"
            ],
            [
             0.3333333333333333,
             "#9c179e"
            ],
            [
             0.4444444444444444,
             "#bd3786"
            ],
            [
             0.5555555555555556,
             "#d8576b"
            ],
            [
             0.6666666666666666,
             "#ed7953"
            ],
            [
             0.7777777777777778,
             "#fb9f3a"
            ],
            [
             0.8888888888888888,
             "#fdca26"
            ],
            [
             1,
             "#f0f921"
            ]
           ],
           "sequentialminus": [
            [
             0,
             "#0d0887"
            ],
            [
             0.1111111111111111,
             "#46039f"
            ],
            [
             0.2222222222222222,
             "#7201a8"
            ],
            [
             0.3333333333333333,
             "#9c179e"
            ],
            [
             0.4444444444444444,
             "#bd3786"
            ],
            [
             0.5555555555555556,
             "#d8576b"
            ],
            [
             0.6666666666666666,
             "#ed7953"
            ],
            [
             0.7777777777777778,
             "#fb9f3a"
            ],
            [
             0.8888888888888888,
             "#fdca26"
            ],
            [
             1,
             "#f0f921"
            ]
           ]
          },
          "colorway": [
           "#636efa",
           "#EF553B",
           "#00cc96",
           "#ab63fa",
           "#FFA15A",
           "#19d3f3",
           "#FF6692",
           "#B6E880",
           "#FF97FF",
           "#FECB52"
          ],
          "font": {
           "color": "#2a3f5f"
          },
          "geo": {
           "bgcolor": "white",
           "lakecolor": "white",
           "landcolor": "#E5ECF6",
           "showlakes": true,
           "showland": true,
           "subunitcolor": "white"
          },
          "hoverlabel": {
           "align": "left"
          },
          "hovermode": "closest",
          "mapbox": {
           "style": "light"
          },
          "paper_bgcolor": "white",
          "plot_bgcolor": "#E5ECF6",
          "polar": {
           "angularaxis": {
            "gridcolor": "white",
            "linecolor": "white",
            "ticks": ""
           },
           "bgcolor": "#E5ECF6",
           "radialaxis": {
            "gridcolor": "white",
            "linecolor": "white",
            "ticks": ""
           }
          },
          "scene": {
           "xaxis": {
            "backgroundcolor": "#E5ECF6",
            "gridcolor": "white",
            "gridwidth": 2,
            "linecolor": "white",
            "showbackground": true,
            "ticks": "",
            "zerolinecolor": "white"
           },
           "yaxis": {
            "backgroundcolor": "#E5ECF6",
            "gridcolor": "white",
            "gridwidth": 2,
            "linecolor": "white",
            "showbackground": true,
            "ticks": "",
            "zerolinecolor": "white"
           },
           "zaxis": {
            "backgroundcolor": "#E5ECF6",
            "gridcolor": "white",
            "gridwidth": 2,
            "linecolor": "white",
            "showbackground": true,
            "ticks": "",
            "zerolinecolor": "white"
           }
          },
          "shapedefaults": {
           "line": {
            "color": "#2a3f5f"
           }
          },
          "ternary": {
           "aaxis": {
            "gridcolor": "white",
            "linecolor": "white",
            "ticks": ""
           },
           "baxis": {
            "gridcolor": "white",
            "linecolor": "white",
            "ticks": ""
           },
           "bgcolor": "#E5ECF6",
           "caxis": {
            "gridcolor": "white",
            "linecolor": "white",
            "ticks": ""
           }
          },
          "title": {
           "x": 0.05
          },
          "xaxis": {
           "automargin": true,
           "gridcolor": "white",
           "linecolor": "white",
           "ticks": "",
           "title": {
            "standoff": 15
           },
           "zerolinecolor": "white",
           "zerolinewidth": 2
          },
          "yaxis": {
           "automargin": true,
           "gridcolor": "white",
           "linecolor": "white",
           "ticks": "",
           "title": {
            "standoff": 15
           },
           "zerolinecolor": "white",
           "zerolinewidth": 2
          }
         }
        },
        "title": {
         "text": "3D Visualization of Protein Folding on a Lattice With Amino Acid Parameters"
        }
       }
      },
      "text/html": [
       "<div>                            <div id=\"76f83553-5def-4bff-8ad4-544f3178daea\" class=\"plotly-graph-div\" style=\"height:525px; width:100%;\"></div>            <script type=\"text/javascript\">                require([\"plotly\"], function(Plotly) {                    window.PLOTLYENV=window.PLOTLYENV || {};                                    if (document.getElementById(\"76f83553-5def-4bff-8ad4-544f3178daea\")) {                    Plotly.newPlot(                        \"76f83553-5def-4bff-8ad4-544f3178daea\",                        [{\"marker\":{\"color\":\"blue\",\"size\":5},\"mode\":\"markers+text\",\"text\":[\"L\",\"T\",\"I\",\"C\",\"D\",\"W\",\"Q\",\"W\",\"D\",\"F\",\"Q\",\"E\",\"K\",\"I\",\"F\",\"M\",\"Y\",\"K\",\"S\",\"W\",\"R\",\"D\",\"G\",\"I\",\"M\",\"S\",\"F\",\"T\",\"V\",\"F\",\"K\",\"G\",\"E\",\"Y\",\"N\",\"F\",\"Q\",\"S\",\"A\",\"G\",\"Q\",\"I\",\"T\",\"K\",\"R\",\"N\",\"C\",\"R\",\"G\",\"D\",\"G\",\"K\",\"V\",\"H\",\"D\",\"W\",\"I\",\"L\",\"R\",\"M\",\"Y\",\"V\",\"M\",\"V\",\"F\",\"K\",\"H\",\"P\",\"Q\",\"V\",\"W\",\"Y\",\"N\",\"C\",\"E\",\"V\",\"C\",\"T\",\"T\",\"G\",\"D\",\"W\",\"Y\",\"P\",\"K\",\"F\",\"T\",\"H\",\"A\",\"D\",\"I\",\"P\",\"M\",\"E\",\"W\",\"W\",\"T\",\"L\",\"P\",\"Q\"],\"textposition\":\"top center\",\"x\":[14,14,15,15,15,16,16,16,16,16,16,17,17,17,17,17,17,17,18,18,18,18,18,18,18,18,18,18,18,18,19,19,19,19,19,19,19,19,19,19,20,20,20,20,20,20,20,20,20,21,21,21,21,21,22,22,22,22,23,24,25,25,25,25,26,26,27,27,27,28,28,28,28,29,29,29,29,29,30,30,30,31,31,31,31,32,32,32,32,33,33,33,33,34,34,34,34,35,35,35],\"y\":[17,17,18,18,25,17,18,19,20,25,25,17,18,18,19,21,25,25,17,17,18,19,19,22,25,25,25,25,26,26,18,18,19,23,25,25,25,25,26,26,19,19,20,23,25,25,25,25,26,20,24,25,25,25,21,21,25,25,22,23,23,23,24,25,23,25,22,23,25,22,23,24,25,21,22,24,25,25,21,25,25,25,25,25,25,25,25,25,26,25,26,26,27,25,26,26,27,26,26,27],\"z\":[16,17,17,18,18,19,18,18,18,18,19,19,19,20,19,19,19,20,19,20,20,20,21,20,18,19,20,21,18,19,20,21,21,21,18,19,20,22,18,21,21,22,22,21,19,21,22,23,21,22,22,22,23,24,22,23,23,24,23,24,24,25,25,25,25,25,24,24,25,23,24,24,25,22,23,24,24,25,22,23,25,22,23,24,25,21,22,25,23,25,23,24,22,25,24,25,22,24,25,25],\"type\":\"scatter3d\"},{\"line\":{\"color\":\"red\",\"width\":2},\"mode\":\"lines\",\"x\":[14,14,15,15,15,16,16,16,16,16,16,17,17,17,17,17,17,17,18,18,18,18,18,18,18,18,18,18,18,18,19,19,19,19,19,19,19,19,19,19,20,20,20,20,20,20,20,20,20,21,21,21,21,21,22,22,22,22,23,24,25,25,25,25,26,26,27,27,27,28,28,28,28,29,29,29,29,29,30,30,30,31,31,31,31,32,32,32,32,33,33,33,33,34,34,34,34,35,35,35],\"y\":[17,17,18,18,25,17,18,19,20,25,25,17,18,18,19,21,25,25,17,17,18,19,19,22,25,25,25,25,26,26,18,18,19,23,25,25,25,25,26,26,19,19,20,23,25,25,25,25,26,20,24,25,25,25,21,21,25,25,22,23,23,23,24,25,23,25,22,23,25,22,23,24,25,21,22,24,25,25,21,25,25,25,25,25,25,25,25,25,26,25,26,26,27,25,26,26,27,26,26,27],\"z\":[16,17,17,18,18,19,18,18,18,18,19,19,19,20,19,19,19,20,19,20,20,20,21,20,18,19,20,21,18,19,20,21,21,21,18,19,20,22,18,21,21,22,22,21,19,21,22,23,21,22,22,22,23,24,22,23,23,24,23,24,24,25,25,25,25,25,24,24,25,23,24,24,25,22,23,24,24,25,22,23,25,22,23,24,25,21,22,25,23,25,23,24,22,25,24,25,22,24,25,25],\"type\":\"scatter3d\"}],                        {\"template\":{\"data\":{\"histogram2dcontour\":[{\"type\":\"histogram2dcontour\",\"colorbar\":{\"outlinewidth\":0,\"ticks\":\"\"},\"colorscale\":[[0.0,\"#0d0887\"],[0.1111111111111111,\"#46039f\"],[0.2222222222222222,\"#7201a8\"],[0.3333333333333333,\"#9c179e\"],[0.4444444444444444,\"#bd3786\"],[0.5555555555555556,\"#d8576b\"],[0.6666666666666666,\"#ed7953\"],[0.7777777777777778,\"#fb9f3a\"],[0.8888888888888888,\"#fdca26\"],[1.0,\"#f0f921\"]]}],\"choropleth\":[{\"type\":\"choropleth\",\"colorbar\":{\"outlinewidth\":0,\"ticks\":\"\"}}],\"histogram2d\":[{\"type\":\"histogram2d\",\"colorbar\":{\"outlinewidth\":0,\"ticks\":\"\"},\"colorscale\":[[0.0,\"#0d0887\"],[0.1111111111111111,\"#46039f\"],[0.2222222222222222,\"#7201a8\"],[0.3333333333333333,\"#9c179e\"],[0.4444444444444444,\"#bd3786\"],[0.5555555555555556,\"#d8576b\"],[0.6666666666666666,\"#ed7953\"],[0.7777777777777778,\"#fb9f3a\"],[0.8888888888888888,\"#fdca26\"],[1.0,\"#f0f921\"]]}],\"heatmap\":[{\"type\":\"heatmap\",\"colorbar\":{\"outlinewidth\":0,\"ticks\":\"\"},\"colorscale\":[[0.0,\"#0d0887\"],[0.1111111111111111,\"#46039f\"],[0.2222222222222222,\"#7201a8\"],[0.3333333333333333,\"#9c179e\"],[0.4444444444444444,\"#bd3786\"],[0.5555555555555556,\"#d8576b\"],[0.6666666666666666,\"#ed7953\"],[0.7777777777777778,\"#fb9f3a\"],[0.8888888888888888,\"#fdca26\"],[1.0,\"#f0f921\"]]}],\"heatmapgl\":[{\"type\":\"heatmapgl\",\"colorbar\":{\"outlinewidth\":0,\"ticks\":\"\"},\"colorscale\":[[0.0,\"#0d0887\"],[0.1111111111111111,\"#46039f\"],[0.2222222222222222,\"#7201a8\"],[0.3333333333333333,\"#9c179e\"],[0.4444444444444444,\"#bd3786\"],[0.5555555555555556,\"#d8576b\"],[0.6666666666666666,\"#ed7953\"],[0.7777777777777778,\"#fb9f3a\"],[0.8888888888888888,\"#fdca26\"],[1.0,\"#f0f921\"]]}],\"contourcarpet\":[{\"type\":\"contourcarpet\",\"colorbar\":{\"outlinewidth\":0,\"ticks\":\"\"}}],\"contour\":[{\"type\":\"contour\",\"colorbar\":{\"outlinewidth\":0,\"ticks\":\"\"},\"colorscale\":[[0.0,\"#0d0887\"],[0.1111111111111111,\"#46039f\"],[0.2222222222222222,\"#7201a8\"],[0.3333333333333333,\"#9c179e\"],[0.4444444444444444,\"#bd3786\"],[0.5555555555555556,\"#d8576b\"],[0.6666666666666666,\"#ed7953\"],[0.7777777777777778,\"#fb9f3a\"],[0.8888888888888888,\"#fdca26\"],[1.0,\"#f0f921\"]]}],\"surface\":[{\"type\":\"surface\",\"colorbar\":{\"outlinewidth\":0,\"ticks\":\"\"},\"colorscale\":[[0.0,\"#0d0887\"],[0.1111111111111111,\"#46039f\"],[0.2222222222222222,\"#7201a8\"],[0.3333333333333333,\"#9c179e\"],[0.4444444444444444,\"#bd3786\"],[0.5555555555555556,\"#d8576b\"],[0.6666666666666666,\"#ed7953\"],[0.7777777777777778,\"#fb9f3a\"],[0.8888888888888888,\"#fdca26\"],[1.0,\"#f0f921\"]]}],\"mesh3d\":[{\"type\":\"mesh3d\",\"colorbar\":{\"outlinewidth\":0,\"ticks\":\"\"}}],\"scatter\":[{\"fillpattern\":{\"fillmode\":\"overlay\",\"size\":10,\"solidity\":0.2},\"type\":\"scatter\"}],\"parcoords\":[{\"type\":\"parcoords\",\"line\":{\"colorbar\":{\"outlinewidth\":0,\"ticks\":\"\"}}}],\"scatterpolargl\":[{\"type\":\"scatterpolargl\",\"marker\":{\"colorbar\":{\"outlinewidth\":0,\"ticks\":\"\"}}}],\"bar\":[{\"error_x\":{\"color\":\"#2a3f5f\"},\"error_y\":{\"color\":\"#2a3f5f\"},\"marker\":{\"line\":{\"color\":\"#E5ECF6\",\"width\":0.5},\"pattern\":{\"fillmode\":\"overlay\",\"size\":10,\"solidity\":0.2}},\"type\":\"bar\"}],\"scattergeo\":[{\"type\":\"scattergeo\",\"marker\":{\"colorbar\":{\"outlinewidth\":0,\"ticks\":\"\"}}}],\"scatterpolar\":[{\"type\":\"scatterpolar\",\"marker\":{\"colorbar\":{\"outlinewidth\":0,\"ticks\":\"\"}}}],\"histogram\":[{\"marker\":{\"pattern\":{\"fillmode\":\"overlay\",\"size\":10,\"solidity\":0.2}},\"type\":\"histogram\"}],\"scattergl\":[{\"type\":\"scattergl\",\"marker\":{\"colorbar\":{\"outlinewidth\":0,\"ticks\":\"\"}}}],\"scatter3d\":[{\"type\":\"scatter3d\",\"line\":{\"colorbar\":{\"outlinewidth\":0,\"ticks\":\"\"}},\"marker\":{\"colorbar\":{\"outlinewidth\":0,\"ticks\":\"\"}}}],\"scattermapbox\":[{\"type\":\"scattermapbox\",\"marker\":{\"colorbar\":{\"outlinewidth\":0,\"ticks\":\"\"}}}],\"scatterternary\":[{\"type\":\"scatterternary\",\"marker\":{\"colorbar\":{\"outlinewidth\":0,\"ticks\":\"\"}}}],\"scattercarpet\":[{\"type\":\"scattercarpet\",\"marker\":{\"colorbar\":{\"outlinewidth\":0,\"ticks\":\"\"}}}],\"carpet\":[{\"aaxis\":{\"endlinecolor\":\"#2a3f5f\",\"gridcolor\":\"white\",\"linecolor\":\"white\",\"minorgridcolor\":\"white\",\"startlinecolor\":\"#2a3f5f\"},\"baxis\":{\"endlinecolor\":\"#2a3f5f\",\"gridcolor\":\"white\",\"linecolor\":\"white\",\"minorgridcolor\":\"white\",\"startlinecolor\":\"#2a3f5f\"},\"type\":\"carpet\"}],\"table\":[{\"cells\":{\"fill\":{\"color\":\"#EBF0F8\"},\"line\":{\"color\":\"white\"}},\"header\":{\"fill\":{\"color\":\"#C8D4E3\"},\"line\":{\"color\":\"white\"}},\"type\":\"table\"}],\"barpolar\":[{\"marker\":{\"line\":{\"color\":\"#E5ECF6\",\"width\":0.5},\"pattern\":{\"fillmode\":\"overlay\",\"size\":10,\"solidity\":0.2}},\"type\":\"barpolar\"}],\"pie\":[{\"automargin\":true,\"type\":\"pie\"}]},\"layout\":{\"autotypenumbers\":\"strict\",\"colorway\":[\"#636efa\",\"#EF553B\",\"#00cc96\",\"#ab63fa\",\"#FFA15A\",\"#19d3f3\",\"#FF6692\",\"#B6E880\",\"#FF97FF\",\"#FECB52\"],\"font\":{\"color\":\"#2a3f5f\"},\"hovermode\":\"closest\",\"hoverlabel\":{\"align\":\"left\"},\"paper_bgcolor\":\"white\",\"plot_bgcolor\":\"#E5ECF6\",\"polar\":{\"bgcolor\":\"#E5ECF6\",\"angularaxis\":{\"gridcolor\":\"white\",\"linecolor\":\"white\",\"ticks\":\"\"},\"radialaxis\":{\"gridcolor\":\"white\",\"linecolor\":\"white\",\"ticks\":\"\"}},\"ternary\":{\"bgcolor\":\"#E5ECF6\",\"aaxis\":{\"gridcolor\":\"white\",\"linecolor\":\"white\",\"ticks\":\"\"},\"baxis\":{\"gridcolor\":\"white\",\"linecolor\":\"white\",\"ticks\":\"\"},\"caxis\":{\"gridcolor\":\"white\",\"linecolor\":\"white\",\"ticks\":\"\"}},\"coloraxis\":{\"colorbar\":{\"outlinewidth\":0,\"ticks\":\"\"}},\"colorscale\":{\"sequential\":[[0.0,\"#0d0887\"],[0.1111111111111111,\"#46039f\"],[0.2222222222222222,\"#7201a8\"],[0.3333333333333333,\"#9c179e\"],[0.4444444444444444,\"#bd3786\"],[0.5555555555555556,\"#d8576b\"],[0.6666666666666666,\"#ed7953\"],[0.7777777777777778,\"#fb9f3a\"],[0.8888888888888888,\"#fdca26\"],[1.0,\"#f0f921\"]],\"sequentialminus\":[[0.0,\"#0d0887\"],[0.1111111111111111,\"#46039f\"],[0.2222222222222222,\"#7201a8\"],[0.3333333333333333,\"#9c179e\"],[0.4444444444444444,\"#bd3786\"],[0.5555555555555556,\"#d8576b\"],[0.6666666666666666,\"#ed7953\"],[0.7777777777777778,\"#fb9f3a\"],[0.8888888888888888,\"#fdca26\"],[1.0,\"#f0f921\"]],\"diverging\":[[0,\"#8e0152\"],[0.1,\"#c51b7d\"],[0.2,\"#de77ae\"],[0.3,\"#f1b6da\"],[0.4,\"#fde0ef\"],[0.5,\"#f7f7f7\"],[0.6,\"#e6f5d0\"],[0.7,\"#b8e186\"],[0.8,\"#7fbc41\"],[0.9,\"#4d9221\"],[1,\"#276419\"]]},\"xaxis\":{\"gridcolor\":\"white\",\"linecolor\":\"white\",\"ticks\":\"\",\"title\":{\"standoff\":15},\"zerolinecolor\":\"white\",\"automargin\":true,\"zerolinewidth\":2},\"yaxis\":{\"gridcolor\":\"white\",\"linecolor\":\"white\",\"ticks\":\"\",\"title\":{\"standoff\":15},\"zerolinecolor\":\"white\",\"automargin\":true,\"zerolinewidth\":2},\"scene\":{\"xaxis\":{\"backgroundcolor\":\"#E5ECF6\",\"gridcolor\":\"white\",\"linecolor\":\"white\",\"showbackground\":true,\"ticks\":\"\",\"zerolinecolor\":\"white\",\"gridwidth\":2},\"yaxis\":{\"backgroundcolor\":\"#E5ECF6\",\"gridcolor\":\"white\",\"linecolor\":\"white\",\"showbackground\":true,\"ticks\":\"\",\"zerolinecolor\":\"white\",\"gridwidth\":2},\"zaxis\":{\"backgroundcolor\":\"#E5ECF6\",\"gridcolor\":\"white\",\"linecolor\":\"white\",\"showbackground\":true,\"ticks\":\"\",\"zerolinecolor\":\"white\",\"gridwidth\":2}},\"shapedefaults\":{\"line\":{\"color\":\"#2a3f5f\"}},\"annotationdefaults\":{\"arrowcolor\":\"#2a3f5f\",\"arrowhead\":0,\"arrowwidth\":1},\"geo\":{\"bgcolor\":\"white\",\"landcolor\":\"#E5ECF6\",\"subunitcolor\":\"white\",\"showland\":true,\"showlakes\":true,\"lakecolor\":\"white\"},\"title\":{\"x\":0.05},\"mapbox\":{\"style\":\"light\"}}},\"scene\":{\"xaxis\":{\"title\":{\"text\":\"X Axis\"},\"showbackground\":true,\"backgroundcolor\":\"rgb(230, 230,230)\"},\"yaxis\":{\"title\":{\"text\":\"Y Axis\"},\"showbackground\":true,\"backgroundcolor\":\"rgb(230, 230,230)\"},\"zaxis\":{\"title\":{\"text\":\"Z Axis\"},\"showbackground\":true,\"backgroundcolor\":\"rgb(230, 230,230)\"}},\"title\":{\"text\":\"3D Visualization of Protein Folding on a Lattice With Amino Acid Parameters\"},\"showlegend\":false},                        {\"responsive\": true}                    ).then(function(){\n",
       "                            \n",
       "var gd = document.getElementById('76f83553-5def-4bff-8ad4-544f3178daea');\n",
       "var x = new MutationObserver(function (mutations, observer) {{\n",
       "        var display = window.getComputedStyle(gd).display;\n",
       "        if (!display || display === 'none') {{\n",
       "            console.log([gd, 'removed!']);\n",
       "            Plotly.purge(gd);\n",
       "            observer.disconnect();\n",
       "        }}\n",
       "}});\n",
       "\n",
       "// Listen for the removal of the full notebook cells\n",
       "var notebookContainer = gd.closest('#notebook-container');\n",
       "if (notebookContainer) {{\n",
       "    x.observe(notebookContainer, {childList: true});\n",
       "}}\n",
       "\n",
       "// Listen for the clearing of the current output cell\n",
       "var outputEl = gd.closest('.output');\n",
       "if (outputEl) {{\n",
       "    x.observe(outputEl, {childList: true});\n",
       "}}\n",
       "\n",
       "                        })                };                });            </script>        </div>"
      ]
     },
     "metadata": {},
     "output_type": "display_data"
    }
   ],
   "source": [
    "grid_size = 50  # Increasing grid size\n",
    "grid = np.full((grid_size, grid_size, grid_size), '', dtype=str)  \n",
    "start_pos = (grid_size // 2, grid_size // 2, grid_size // 2) \n",
    "movements = {'up': (1, 0, 0), 'down': (-1, 0, 0), 'left': (0, -1, 0), 'right': (0, 1, 0), 'forward': (0, 0, 1), 'backward': (0, 0, -1)}\n",
    "\n",
    "sequence_longer = 'VKQNTDKHDEWQPLWPITMAPYTFWGCVYWETCVPHFMVYMRDWDQKSWGITEREWIGDKFQCTLIWDMIYKGIKNGGCVLHRSTKQDFYFQSMFRNAVF' # Sequence of length 100\n",
    "result_grid_longer = predict_structure_3d(sequence_longer)\n",
    "\n",
    "indices = np.where(grid != '')\n",
    "x, y, z = indices[0], indices[1], indices[2] \n",
    "labels = grid[x, y, z]\n",
    "\n",
    "fig2 = go.Figure()\n",
    "\n",
    "fig2.add_trace(go.Scatter3d(\n",
    "    x=x, y=y, z=z,\n",
    "    mode='markers+text',\n",
    "    marker=dict(\n",
    "        size=5,\n",
    "        color='blue',\n",
    "    ),\n",
    "    text=labels,  \n",
    "    textposition=\"top center\"\n",
    "))\n",
    "\n",
    "fig2.add_trace(go.Scatter3d(\n",
    "    x=x, y=y, z=z,\n",
    "    mode='lines',\n",
    "    line=dict(\n",
    "        color='red', \n",
    "        width=2\n",
    "    )\n",
    "))\n",
    "\n",
    "fig2.update_layout(\n",
    "    title='3D Visualization of Protein Folding on a Lattice With Amino Acid Parameters',\n",
    "    scene=dict(\n",
    "        xaxis_title='X Axis',\n",
    "        yaxis_title='Y Axis',\n",
    "        zaxis_title='Z Axis',\n",
    "        xaxis=dict(showbackground=True, backgroundcolor=\"rgb(230, 230,230)\"),\n",
    "        yaxis=dict(showbackground=True, backgroundcolor=\"rgb(230, 230,230)\"),\n",
    "        zaxis=dict(showbackground=True, backgroundcolor=\"rgb(230, 230,230)\")\n",
    "    ),\n",
    "    showlegend=False\n",
    ")\n",
    "\n",
    "fig2.show()\n"
   ]
  },
  {
   "cell_type": "markdown",
   "id": "3c9f8814-9bc9-4b9c-ad49-b751efb81ebc",
   "metadata": {},
   "source": [
    "        The results are much more interesting when the sequence becomes longer. By rotating the figure above, I am able to tell that there are longer streteches of amino acids forming in a straight line, but also turning around at certain points. The overall structure does still have somewhat of a direction. I think it may be too hard to model more complicated turns, so I will have to stay with the 3D lattice grid. \n",
    "        \n",
    "        For comparison, I will submit that same sequence as above ('sequence_longer') to see what AlphaFold predicts. I do not in any expect my prediction to align with what AlphaFold predicts, but I just think it would be interesting nonetheless.\n",
    "        \n",
    "        Update: It is so unfortunate that I could not get the AlphaFold code to run. The code file is available for download at this website: \n",
    "            https://proteopedia.org/wiki/index.php/How_to_predict_structures_with_AlphaFold\n",
    "        But I could not find any solutions to trouble shooting issues I had. Nonetheless, it is great that the code is easily available, and it would very interesting to explore the file in more detail and hopefully get it to work so I can simulate protein structures with it."
   ]
  },
  {
   "cell_type": "markdown",
   "id": "947f0ef5-0849-4db1-948e-3280ca04f5b2",
   "metadata": {},
   "source": [
    "        I did find the amino acid sequence for an alpha helix from the Protein Data Bank, so I'll compare my result to the actual alpha helix structure."
   ]
  },
  {
   "cell_type": "code",
   "execution_count": 469,
   "id": "5dbb456f-4e86-4f4b-8a87-669683fcd108",
   "metadata": {
    "tags": []
   },
   "outputs": [
    {
     "data": {
      "application/vnd.plotly.v1+json": {
       "config": {
        "plotlyServerURL": "https://plot.ly"
       },
       "data": [
        {
         "marker": {
          "color": "blue",
          "size": 5
         },
         "mode": "markers+text",
         "text": [
          "L",
          "T",
          "N",
          "A",
          "D",
          "G",
          "K",
          "Y",
          "W",
          "T",
          "R",
          "A",
          "R",
          "F",
          "T",
          "V",
          "R",
          "A",
          "R",
          "T",
          "R",
          "E",
          "D",
          "I",
          "K",
          "L",
          "V",
          "N",
          "D",
          "D",
          "V",
          "A",
          "A",
          "A",
          "I",
          "N",
          "A",
          "D",
          "P",
          "W",
          "R",
          "Q",
          "A",
          "A",
          "M",
          "K",
          "P",
          "V",
          "S",
          "L",
          "K",
          "N",
          "R",
          "T",
          "V",
          "V",
          "Q",
          "V",
          "L",
          "Y",
          "R",
          "K",
          "D",
          "M",
          "Q",
          "F",
          "G",
          "Q",
          "W",
          "R",
          "N",
          "F",
          "S",
          "M",
          "L",
          "A",
          "L",
          "Q",
          "N",
          "I",
          "N",
          "Y",
          "S",
          "K",
          "L",
          "L",
          "N",
          "G",
          "E",
          "T",
          "R",
          "L",
          "K",
          "E",
          "A",
          "E",
          "G",
          "T",
          "A",
          "G",
          "N",
          "A",
          "E",
          "K",
          "T",
          "Y",
          "F",
          "G",
          "V",
          "T",
          "G",
          "D",
          "D",
          "D",
          "Y",
          "A",
          "T",
          "I",
          "N",
          "V",
          "K",
          "L",
          "K",
          "K",
          "E",
          "I",
          "A",
          "G",
          "R",
          "I",
          "T",
          "Y",
          "I",
          "I",
          "G",
          "A",
          "N",
          "H",
          "G",
          "I",
          "S",
          "L",
          "S",
          "E",
          "G",
          "L",
          "R",
          "K",
          "K",
          "P",
          "E",
          "M",
          "R",
          "D",
          "L",
          "L",
          "T",
          "L",
          "F",
          "I",
          "L",
          "I",
          "M",
          "N"
         ],
         "textposition": "top center",
         "type": "scatter3d",
         "x": [
          29,
          29,
          29,
          29,
          29,
          30,
          30,
          30,
          30,
          31,
          32,
          33,
          33,
          33,
          33,
          33,
          33,
          34,
          34,
          34,
          34,
          34,
          34,
          34,
          34,
          35,
          35,
          35,
          35,
          35,
          35,
          35,
          35,
          35,
          36,
          36,
          36,
          36,
          36,
          36,
          36,
          36,
          36,
          36,
          37,
          37,
          37,
          37,
          37,
          37,
          37,
          37,
          37,
          37,
          37,
          37,
          38,
          38,
          38,
          38,
          38,
          38,
          38,
          38,
          38,
          38,
          38,
          38,
          38,
          38,
          38,
          39,
          39,
          39,
          39,
          39,
          39,
          39,
          39,
          39,
          39,
          39,
          39,
          39,
          39,
          39,
          40,
          40,
          40,
          40,
          40,
          40,
          40,
          40,
          40,
          41,
          41,
          41,
          41,
          41,
          41,
          41,
          41,
          42,
          42,
          42,
          42,
          42,
          42,
          42,
          42,
          42,
          43,
          43,
          43,
          43,
          43,
          43,
          43,
          43,
          43,
          44,
          44,
          44,
          44,
          44,
          44,
          44,
          44,
          44,
          44,
          45,
          45,
          45,
          45,
          45,
          45,
          46,
          46,
          46,
          46,
          46,
          46,
          47,
          47,
          47,
          47,
          47,
          47,
          47,
          48,
          48,
          48,
          48,
          48,
          48,
          48,
          48,
          49,
          49,
          49,
          49,
          50,
          50
         ],
         "y": [
          74,
          74,
          75,
          75,
          75,
          73,
          74,
          74,
          74,
          73,
          72,
          68,
          69,
          71,
          71,
          72,
          72,
          67,
          68,
          70,
          70,
          70,
          70,
          71,
          71,
          66,
          67,
          69,
          69,
          69,
          69,
          70,
          70,
          70,
          65,
          65,
          67,
          67,
          68,
          68,
          68,
          68,
          69,
          69,
          64,
          65,
          65,
          65,
          66,
          66,
          67,
          67,
          67,
          68,
          68,
          68,
          63,
          63,
          64,
          64,
          65,
          65,
          65,
          66,
          66,
          66,
          66,
          67,
          67,
          67,
          68,
          62,
          63,
          63,
          64,
          64,
          65,
          65,
          65,
          65,
          66,
          66,
          66,
          66,
          66,
          67,
          62,
          62,
          63,
          63,
          64,
          64,
          65,
          65,
          66,
          60,
          60,
          61,
          61,
          62,
          63,
          64,
          65,
          59,
          59,
          59,
          60,
          60,
          61,
          62,
          63,
          64,
          58,
          58,
          58,
          59,
          59,
          60,
          61,
          62,
          63,
          57,
          57,
          58,
          58,
          58,
          59,
          59,
          60,
          61,
          62,
          56,
          57,
          57,
          57,
          58,
          59,
          56,
          56,
          56,
          57,
          58,
          58,
          54,
          54,
          55,
          55,
          56,
          56,
          57,
          50,
          51,
          52,
          53,
          54,
          54,
          55,
          55,
          50,
          50,
          51,
          52,
          50,
          50
         ],
         "z": [
          28,
          31,
          28,
          29,
          30,
          32,
          29,
          30,
          31,
          32,
          33,
          55,
          55,
          34,
          35,
          35,
          36,
          54,
          54,
          36,
          38,
          41,
          56,
          36,
          37,
          53,
          53,
          39,
          42,
          54,
          55,
          38,
          41,
          56,
          52,
          53,
          53,
          54,
          40,
          43,
          44,
          53,
          42,
          55,
          52,
          50,
          51,
          52,
          52,
          53,
          45,
          52,
          54,
          40,
          43,
          54,
          50,
          51,
          50,
          51,
          45,
          50,
          51,
          45,
          46,
          51,
          53,
          41,
          42,
          43,
          43,
          50,
          46,
          50,
          46,
          50,
          46,
          47,
          50,
          52,
          42,
          43,
          44,
          50,
          51,
          44,
          47,
          50,
          50,
          51,
          50,
          51,
          45,
          50,
          45,
          57,
          58,
          48,
          50,
          50,
          50,
          50,
          50,
          50,
          56,
          57,
          49,
          50,
          50,
          50,
          50,
          50,
          50,
          55,
          56,
          50,
          56,
          50,
          50,
          50,
          50,
          50,
          54,
          49,
          50,
          55,
          48,
          50,
          50,
          50,
          50,
          53,
          50,
          53,
          54,
          49,
          48,
          51,
          52,
          53,
          50,
          49,
          50,
          50,
          51,
          50,
          52,
          50,
          53,
          50,
          50,
          50,
          50,
          50,
          50,
          51,
          50,
          52,
          50,
          51,
          50,
          50,
          50,
          51
         ]
        },
        {
         "line": {
          "color": "red",
          "width": 2
         },
         "mode": "lines",
         "type": "scatter3d",
         "x": [
          29,
          29,
          29,
          29,
          29,
          30,
          30,
          30,
          30,
          31,
          32,
          33,
          33,
          33,
          33,
          33,
          33,
          34,
          34,
          34,
          34,
          34,
          34,
          34,
          34,
          35,
          35,
          35,
          35,
          35,
          35,
          35,
          35,
          35,
          36,
          36,
          36,
          36,
          36,
          36,
          36,
          36,
          36,
          36,
          37,
          37,
          37,
          37,
          37,
          37,
          37,
          37,
          37,
          37,
          37,
          37,
          38,
          38,
          38,
          38,
          38,
          38,
          38,
          38,
          38,
          38,
          38,
          38,
          38,
          38,
          38,
          39,
          39,
          39,
          39,
          39,
          39,
          39,
          39,
          39,
          39,
          39,
          39,
          39,
          39,
          39,
          40,
          40,
          40,
          40,
          40,
          40,
          40,
          40,
          40,
          41,
          41,
          41,
          41,
          41,
          41,
          41,
          41,
          42,
          42,
          42,
          42,
          42,
          42,
          42,
          42,
          42,
          43,
          43,
          43,
          43,
          43,
          43,
          43,
          43,
          43,
          44,
          44,
          44,
          44,
          44,
          44,
          44,
          44,
          44,
          44,
          45,
          45,
          45,
          45,
          45,
          45,
          46,
          46,
          46,
          46,
          46,
          46,
          47,
          47,
          47,
          47,
          47,
          47,
          47,
          48,
          48,
          48,
          48,
          48,
          48,
          48,
          48,
          49,
          49,
          49,
          49,
          50,
          50
         ],
         "y": [
          74,
          74,
          75,
          75,
          75,
          73,
          74,
          74,
          74,
          73,
          72,
          68,
          69,
          71,
          71,
          72,
          72,
          67,
          68,
          70,
          70,
          70,
          70,
          71,
          71,
          66,
          67,
          69,
          69,
          69,
          69,
          70,
          70,
          70,
          65,
          65,
          67,
          67,
          68,
          68,
          68,
          68,
          69,
          69,
          64,
          65,
          65,
          65,
          66,
          66,
          67,
          67,
          67,
          68,
          68,
          68,
          63,
          63,
          64,
          64,
          65,
          65,
          65,
          66,
          66,
          66,
          66,
          67,
          67,
          67,
          68,
          62,
          63,
          63,
          64,
          64,
          65,
          65,
          65,
          65,
          66,
          66,
          66,
          66,
          66,
          67,
          62,
          62,
          63,
          63,
          64,
          64,
          65,
          65,
          66,
          60,
          60,
          61,
          61,
          62,
          63,
          64,
          65,
          59,
          59,
          59,
          60,
          60,
          61,
          62,
          63,
          64,
          58,
          58,
          58,
          59,
          59,
          60,
          61,
          62,
          63,
          57,
          57,
          58,
          58,
          58,
          59,
          59,
          60,
          61,
          62,
          56,
          57,
          57,
          57,
          58,
          59,
          56,
          56,
          56,
          57,
          58,
          58,
          54,
          54,
          55,
          55,
          56,
          56,
          57,
          50,
          51,
          52,
          53,
          54,
          54,
          55,
          55,
          50,
          50,
          51,
          52,
          50,
          50
         ],
         "z": [
          28,
          31,
          28,
          29,
          30,
          32,
          29,
          30,
          31,
          32,
          33,
          55,
          55,
          34,
          35,
          35,
          36,
          54,
          54,
          36,
          38,
          41,
          56,
          36,
          37,
          53,
          53,
          39,
          42,
          54,
          55,
          38,
          41,
          56,
          52,
          53,
          53,
          54,
          40,
          43,
          44,
          53,
          42,
          55,
          52,
          50,
          51,
          52,
          52,
          53,
          45,
          52,
          54,
          40,
          43,
          54,
          50,
          51,
          50,
          51,
          45,
          50,
          51,
          45,
          46,
          51,
          53,
          41,
          42,
          43,
          43,
          50,
          46,
          50,
          46,
          50,
          46,
          47,
          50,
          52,
          42,
          43,
          44,
          50,
          51,
          44,
          47,
          50,
          50,
          51,
          50,
          51,
          45,
          50,
          45,
          57,
          58,
          48,
          50,
          50,
          50,
          50,
          50,
          50,
          56,
          57,
          49,
          50,
          50,
          50,
          50,
          50,
          50,
          55,
          56,
          50,
          56,
          50,
          50,
          50,
          50,
          50,
          54,
          49,
          50,
          55,
          48,
          50,
          50,
          50,
          50,
          53,
          50,
          53,
          54,
          49,
          48,
          51,
          52,
          53,
          50,
          49,
          50,
          50,
          51,
          50,
          52,
          50,
          53,
          50,
          50,
          50,
          50,
          50,
          50,
          51,
          50,
          52,
          50,
          51,
          50,
          50,
          50,
          51
         ]
        }
       ],
       "layout": {
        "autosize": true,
        "height": 360,
        "scene": {
         "aspectmode": "auto",
         "aspectratio": {
          "x": 0.8377718728240059,
          "y": 0.9973474676476259,
          "z": 1.1968169611771513
         },
         "xaxis": {
          "backgroundcolor": "rgb(230, 230,230)",
          "showbackground": true,
          "title": {
           "text": "X Axis"
          },
          "type": "linear"
         },
         "yaxis": {
          "backgroundcolor": "rgb(230, 230,230)",
          "showbackground": true,
          "title": {
           "text": "Y Axis"
          },
          "type": "linear"
         },
         "zaxis": {
          "backgroundcolor": "rgb(230, 230,230)",
          "showbackground": true,
          "title": {
           "text": "Z Axis"
          },
          "type": "linear"
         }
        },
        "showlegend": false,
        "template": {
         "data": {
          "bar": [
           {
            "error_x": {
             "color": "#2a3f5f"
            },
            "error_y": {
             "color": "#2a3f5f"
            },
            "marker": {
             "line": {
              "color": "#E5ECF6",
              "width": 0.5
             },
             "pattern": {
              "fillmode": "overlay",
              "size": 10,
              "solidity": 0.2
             }
            },
            "type": "bar"
           }
          ],
          "barpolar": [
           {
            "marker": {
             "line": {
              "color": "#E5ECF6",
              "width": 0.5
             },
             "pattern": {
              "fillmode": "overlay",
              "size": 10,
              "solidity": 0.2
             }
            },
            "type": "barpolar"
           }
          ],
          "carpet": [
           {
            "aaxis": {
             "endlinecolor": "#2a3f5f",
             "gridcolor": "white",
             "linecolor": "white",
             "minorgridcolor": "white",
             "startlinecolor": "#2a3f5f"
            },
            "baxis": {
             "endlinecolor": "#2a3f5f",
             "gridcolor": "white",
             "linecolor": "white",
             "minorgridcolor": "white",
             "startlinecolor": "#2a3f5f"
            },
            "type": "carpet"
           }
          ],
          "choropleth": [
           {
            "colorbar": {
             "outlinewidth": 0,
             "ticks": ""
            },
            "type": "choropleth"
           }
          ],
          "contour": [
           {
            "colorbar": {
             "outlinewidth": 0,
             "ticks": ""
            },
            "colorscale": [
             [
              0,
              "#0d0887"
             ],
             [
              0.1111111111111111,
              "#46039f"
             ],
             [
              0.2222222222222222,
              "#7201a8"
             ],
             [
              0.3333333333333333,
              "#9c179e"
             ],
             [
              0.4444444444444444,
              "#bd3786"
             ],
             [
              0.5555555555555556,
              "#d8576b"
             ],
             [
              0.6666666666666666,
              "#ed7953"
             ],
             [
              0.7777777777777778,
              "#fb9f3a"
             ],
             [
              0.8888888888888888,
              "#fdca26"
             ],
             [
              1,
              "#f0f921"
             ]
            ],
            "type": "contour"
           }
          ],
          "contourcarpet": [
           {
            "colorbar": {
             "outlinewidth": 0,
             "ticks": ""
            },
            "type": "contourcarpet"
           }
          ],
          "heatmap": [
           {
            "colorbar": {
             "outlinewidth": 0,
             "ticks": ""
            },
            "colorscale": [
             [
              0,
              "#0d0887"
             ],
             [
              0.1111111111111111,
              "#46039f"
             ],
             [
              0.2222222222222222,
              "#7201a8"
             ],
             [
              0.3333333333333333,
              "#9c179e"
             ],
             [
              0.4444444444444444,
              "#bd3786"
             ],
             [
              0.5555555555555556,
              "#d8576b"
             ],
             [
              0.6666666666666666,
              "#ed7953"
             ],
             [
              0.7777777777777778,
              "#fb9f3a"
             ],
             [
              0.8888888888888888,
              "#fdca26"
             ],
             [
              1,
              "#f0f921"
             ]
            ],
            "type": "heatmap"
           }
          ],
          "heatmapgl": [
           {
            "colorbar": {
             "outlinewidth": 0,
             "ticks": ""
            },
            "colorscale": [
             [
              0,
              "#0d0887"
             ],
             [
              0.1111111111111111,
              "#46039f"
             ],
             [
              0.2222222222222222,
              "#7201a8"
             ],
             [
              0.3333333333333333,
              "#9c179e"
             ],
             [
              0.4444444444444444,
              "#bd3786"
             ],
             [
              0.5555555555555556,
              "#d8576b"
             ],
             [
              0.6666666666666666,
              "#ed7953"
             ],
             [
              0.7777777777777778,
              "#fb9f3a"
             ],
             [
              0.8888888888888888,
              "#fdca26"
             ],
             [
              1,
              "#f0f921"
             ]
            ],
            "type": "heatmapgl"
           }
          ],
          "histogram": [
           {
            "marker": {
             "pattern": {
              "fillmode": "overlay",
              "size": 10,
              "solidity": 0.2
             }
            },
            "type": "histogram"
           }
          ],
          "histogram2d": [
           {
            "colorbar": {
             "outlinewidth": 0,
             "ticks": ""
            },
            "colorscale": [
             [
              0,
              "#0d0887"
             ],
             [
              0.1111111111111111,
              "#46039f"
             ],
             [
              0.2222222222222222,
              "#7201a8"
             ],
             [
              0.3333333333333333,
              "#9c179e"
             ],
             [
              0.4444444444444444,
              "#bd3786"
             ],
             [
              0.5555555555555556,
              "#d8576b"
             ],
             [
              0.6666666666666666,
              "#ed7953"
             ],
             [
              0.7777777777777778,
              "#fb9f3a"
             ],
             [
              0.8888888888888888,
              "#fdca26"
             ],
             [
              1,
              "#f0f921"
             ]
            ],
            "type": "histogram2d"
           }
          ],
          "histogram2dcontour": [
           {
            "colorbar": {
             "outlinewidth": 0,
             "ticks": ""
            },
            "colorscale": [
             [
              0,
              "#0d0887"
             ],
             [
              0.1111111111111111,
              "#46039f"
             ],
             [
              0.2222222222222222,
              "#7201a8"
             ],
             [
              0.3333333333333333,
              "#9c179e"
             ],
             [
              0.4444444444444444,
              "#bd3786"
             ],
             [
              0.5555555555555556,
              "#d8576b"
             ],
             [
              0.6666666666666666,
              "#ed7953"
             ],
             [
              0.7777777777777778,
              "#fb9f3a"
             ],
             [
              0.8888888888888888,
              "#fdca26"
             ],
             [
              1,
              "#f0f921"
             ]
            ],
            "type": "histogram2dcontour"
           }
          ],
          "mesh3d": [
           {
            "colorbar": {
             "outlinewidth": 0,
             "ticks": ""
            },
            "type": "mesh3d"
           }
          ],
          "parcoords": [
           {
            "line": {
             "colorbar": {
              "outlinewidth": 0,
              "ticks": ""
             }
            },
            "type": "parcoords"
           }
          ],
          "pie": [
           {
            "automargin": true,
            "type": "pie"
           }
          ],
          "scatter": [
           {
            "fillpattern": {
             "fillmode": "overlay",
             "size": 10,
             "solidity": 0.2
            },
            "type": "scatter"
           }
          ],
          "scatter3d": [
           {
            "line": {
             "colorbar": {
              "outlinewidth": 0,
              "ticks": ""
             }
            },
            "marker": {
             "colorbar": {
              "outlinewidth": 0,
              "ticks": ""
             }
            },
            "type": "scatter3d"
           }
          ],
          "scattercarpet": [
           {
            "marker": {
             "colorbar": {
              "outlinewidth": 0,
              "ticks": ""
             }
            },
            "type": "scattercarpet"
           }
          ],
          "scattergeo": [
           {
            "marker": {
             "colorbar": {
              "outlinewidth": 0,
              "ticks": ""
             }
            },
            "type": "scattergeo"
           }
          ],
          "scattergl": [
           {
            "marker": {
             "colorbar": {
              "outlinewidth": 0,
              "ticks": ""
             }
            },
            "type": "scattergl"
           }
          ],
          "scattermapbox": [
           {
            "marker": {
             "colorbar": {
              "outlinewidth": 0,
              "ticks": ""
             }
            },
            "type": "scattermapbox"
           }
          ],
          "scatterpolar": [
           {
            "marker": {
             "colorbar": {
              "outlinewidth": 0,
              "ticks": ""
             }
            },
            "type": "scatterpolar"
           }
          ],
          "scatterpolargl": [
           {
            "marker": {
             "colorbar": {
              "outlinewidth": 0,
              "ticks": ""
             }
            },
            "type": "scatterpolargl"
           }
          ],
          "scatterternary": [
           {
            "marker": {
             "colorbar": {
              "outlinewidth": 0,
              "ticks": ""
             }
            },
            "type": "scatterternary"
           }
          ],
          "surface": [
           {
            "colorbar": {
             "outlinewidth": 0,
             "ticks": ""
            },
            "colorscale": [
             [
              0,
              "#0d0887"
             ],
             [
              0.1111111111111111,
              "#46039f"
             ],
             [
              0.2222222222222222,
              "#7201a8"
             ],
             [
              0.3333333333333333,
              "#9c179e"
             ],
             [
              0.4444444444444444,
              "#bd3786"
             ],
             [
              0.5555555555555556,
              "#d8576b"
             ],
             [
              0.6666666666666666,
              "#ed7953"
             ],
             [
              0.7777777777777778,
              "#fb9f3a"
             ],
             [
              0.8888888888888888,
              "#fdca26"
             ],
             [
              1,
              "#f0f921"
             ]
            ],
            "type": "surface"
           }
          ],
          "table": [
           {
            "cells": {
             "fill": {
              "color": "#EBF0F8"
             },
             "line": {
              "color": "white"
             }
            },
            "header": {
             "fill": {
              "color": "#C8D4E3"
             },
             "line": {
              "color": "white"
             }
            },
            "type": "table"
           }
          ]
         },
         "layout": {
          "annotationdefaults": {
           "arrowcolor": "#2a3f5f",
           "arrowhead": 0,
           "arrowwidth": 1
          },
          "autotypenumbers": "strict",
          "coloraxis": {
           "colorbar": {
            "outlinewidth": 0,
            "ticks": ""
           }
          },
          "colorscale": {
           "diverging": [
            [
             0,
             "#8e0152"
            ],
            [
             0.1,
             "#c51b7d"
            ],
            [
             0.2,
             "#de77ae"
            ],
            [
             0.3,
             "#f1b6da"
            ],
            [
             0.4,
             "#fde0ef"
            ],
            [
             0.5,
             "#f7f7f7"
            ],
            [
             0.6,
             "#e6f5d0"
            ],
            [
             0.7,
             "#b8e186"
            ],
            [
             0.8,
             "#7fbc41"
            ],
            [
             0.9,
             "#4d9221"
            ],
            [
             1,
             "#276419"
            ]
           ],
           "sequential": [
            [
             0,
             "#0d0887"
            ],
            [
             0.1111111111111111,
             "#46039f"
            ],
            [
             0.2222222222222222,
             "#7201a8"
            ],
            [
             0.3333333333333333,
             "#9c179e"
            ],
            [
             0.4444444444444444,
             "#bd3786"
            ],
            [
             0.5555555555555556,
             "#d8576b"
            ],
            [
             0.6666666666666666,
             "#ed7953"
            ],
            [
             0.7777777777777778,
             "#fb9f3a"
            ],
            [
             0.8888888888888888,
             "#fdca26"
            ],
            [
             1,
             "#f0f921"
            ]
           ],
           "sequentialminus": [
            [
             0,
             "#0d0887"
            ],
            [
             0.1111111111111111,
             "#46039f"
            ],
            [
             0.2222222222222222,
             "#7201a8"
            ],
            [
             0.3333333333333333,
             "#9c179e"
            ],
            [
             0.4444444444444444,
             "#bd3786"
            ],
            [
             0.5555555555555556,
             "#d8576b"
            ],
            [
             0.6666666666666666,
             "#ed7953"
            ],
            [
             0.7777777777777778,
             "#fb9f3a"
            ],
            [
             0.8888888888888888,
             "#fdca26"
            ],
            [
             1,
             "#f0f921"
            ]
           ]
          },
          "colorway": [
           "#636efa",
           "#EF553B",
           "#00cc96",
           "#ab63fa",
           "#FFA15A",
           "#19d3f3",
           "#FF6692",
           "#B6E880",
           "#FF97FF",
           "#FECB52"
          ],
          "font": {
           "color": "#2a3f5f"
          },
          "geo": {
           "bgcolor": "white",
           "lakecolor": "white",
           "landcolor": "#E5ECF6",
           "showlakes": true,
           "showland": true,
           "subunitcolor": "white"
          },
          "hoverlabel": {
           "align": "left"
          },
          "hovermode": "closest",
          "mapbox": {
           "style": "light"
          },
          "paper_bgcolor": "white",
          "plot_bgcolor": "#E5ECF6",
          "polar": {
           "angularaxis": {
            "gridcolor": "white",
            "linecolor": "white",
            "ticks": ""
           },
           "bgcolor": "#E5ECF6",
           "radialaxis": {
            "gridcolor": "white",
            "linecolor": "white",
            "ticks": ""
           }
          },
          "scene": {
           "xaxis": {
            "backgroundcolor": "#E5ECF6",
            "gridcolor": "white",
            "gridwidth": 2,
            "linecolor": "white",
            "showbackground": true,
            "ticks": "",
            "zerolinecolor": "white"
           },
           "yaxis": {
            "backgroundcolor": "#E5ECF6",
            "gridcolor": "white",
            "gridwidth": 2,
            "linecolor": "white",
            "showbackground": true,
            "ticks": "",
            "zerolinecolor": "white"
           },
           "zaxis": {
            "backgroundcolor": "#E5ECF6",
            "gridcolor": "white",
            "gridwidth": 2,
            "linecolor": "white",
            "showbackground": true,
            "ticks": "",
            "zerolinecolor": "white"
           }
          },
          "shapedefaults": {
           "line": {
            "color": "#2a3f5f"
           }
          },
          "ternary": {
           "aaxis": {
            "gridcolor": "white",
            "linecolor": "white",
            "ticks": ""
           },
           "baxis": {
            "gridcolor": "white",
            "linecolor": "white",
            "ticks": ""
           },
           "bgcolor": "#E5ECF6",
           "caxis": {
            "gridcolor": "white",
            "linecolor": "white",
            "ticks": ""
           }
          },
          "title": {
           "x": 0.05
          },
          "xaxis": {
           "automargin": true,
           "gridcolor": "white",
           "linecolor": "white",
           "ticks": "",
           "title": {
            "standoff": 15
           },
           "zerolinecolor": "white",
           "zerolinewidth": 2
          },
          "yaxis": {
           "automargin": true,
           "gridcolor": "white",
           "linecolor": "white",
           "ticks": "",
           "title": {
            "standoff": 15
           },
           "zerolinecolor": "white",
           "zerolinewidth": 2
          }
         }
        },
        "title": {
         "text": "3D Visualization of Protein Folding on a Lattice With Amino Acid Parameters"
        }
       }
      },
      "text/html": [
       "<div>                            <div id=\"b44e2516-d53c-4025-a212-9b1300b7097c\" class=\"plotly-graph-div\" style=\"height:525px; width:100%;\"></div>            <script type=\"text/javascript\">                require([\"plotly\"], function(Plotly) {                    window.PLOTLYENV=window.PLOTLYENV || {};                                    if (document.getElementById(\"b44e2516-d53c-4025-a212-9b1300b7097c\")) {                    Plotly.newPlot(                        \"b44e2516-d53c-4025-a212-9b1300b7097c\",                        [{\"marker\":{\"color\":\"blue\",\"size\":5},\"mode\":\"markers+text\",\"text\":[\"L\",\"T\",\"N\",\"A\",\"D\",\"G\",\"K\",\"Y\",\"W\",\"T\",\"R\",\"A\",\"R\",\"F\",\"T\",\"V\",\"R\",\"A\",\"R\",\"T\",\"R\",\"E\",\"D\",\"I\",\"K\",\"L\",\"V\",\"N\",\"D\",\"D\",\"V\",\"A\",\"A\",\"A\",\"I\",\"N\",\"A\",\"D\",\"P\",\"W\",\"R\",\"Q\",\"A\",\"A\",\"M\",\"K\",\"P\",\"V\",\"S\",\"L\",\"K\",\"N\",\"R\",\"T\",\"V\",\"V\",\"Q\",\"V\",\"L\",\"Y\",\"R\",\"K\",\"D\",\"M\",\"Q\",\"F\",\"G\",\"Q\",\"W\",\"R\",\"N\",\"F\",\"S\",\"M\",\"L\",\"A\",\"L\",\"Q\",\"N\",\"I\",\"N\",\"Y\",\"S\",\"K\",\"L\",\"L\",\"N\",\"G\",\"E\",\"T\",\"R\",\"L\",\"K\",\"E\",\"A\",\"E\",\"G\",\"T\",\"A\",\"G\",\"N\",\"A\",\"E\",\"K\",\"T\",\"Y\",\"F\",\"G\",\"V\",\"T\",\"G\",\"D\",\"D\",\"D\",\"Y\",\"A\",\"T\",\"I\",\"N\",\"V\",\"K\",\"L\",\"K\",\"K\",\"E\",\"I\",\"A\",\"G\",\"R\",\"I\",\"T\",\"Y\",\"I\",\"I\",\"G\",\"A\",\"N\",\"H\",\"G\",\"I\",\"S\",\"L\",\"S\",\"E\",\"G\",\"L\",\"R\",\"K\",\"K\",\"P\",\"E\",\"M\",\"R\",\"D\",\"L\",\"L\",\"T\",\"L\",\"F\",\"I\",\"L\",\"I\",\"M\",\"N\"],\"textposition\":\"top center\",\"x\":[29,29,29,29,29,30,30,30,30,31,32,33,33,33,33,33,33,34,34,34,34,34,34,34,34,35,35,35,35,35,35,35,35,35,36,36,36,36,36,36,36,36,36,36,37,37,37,37,37,37,37,37,37,37,37,37,38,38,38,38,38,38,38,38,38,38,38,38,38,38,38,39,39,39,39,39,39,39,39,39,39,39,39,39,39,39,40,40,40,40,40,40,40,40,40,41,41,41,41,41,41,41,41,42,42,42,42,42,42,42,42,42,43,43,43,43,43,43,43,43,43,44,44,44,44,44,44,44,44,44,44,45,45,45,45,45,45,46,46,46,46,46,46,47,47,47,47,47,47,47,48,48,48,48,48,48,48,48,49,49,49,49,50,50],\"y\":[74,74,75,75,75,73,74,74,74,73,72,68,69,71,71,72,72,67,68,70,70,70,70,71,71,66,67,69,69,69,69,70,70,70,65,65,67,67,68,68,68,68,69,69,64,65,65,65,66,66,67,67,67,68,68,68,63,63,64,64,65,65,65,66,66,66,66,67,67,67,68,62,63,63,64,64,65,65,65,65,66,66,66,66,66,67,62,62,63,63,64,64,65,65,66,60,60,61,61,62,63,64,65,59,59,59,60,60,61,62,63,64,58,58,58,59,59,60,61,62,63,57,57,58,58,58,59,59,60,61,62,56,57,57,57,58,59,56,56,56,57,58,58,54,54,55,55,56,56,57,50,51,52,53,54,54,55,55,50,50,51,52,50,50],\"z\":[28,31,28,29,30,32,29,30,31,32,33,55,55,34,35,35,36,54,54,36,38,41,56,36,37,53,53,39,42,54,55,38,41,56,52,53,53,54,40,43,44,53,42,55,52,50,51,52,52,53,45,52,54,40,43,54,50,51,50,51,45,50,51,45,46,51,53,41,42,43,43,50,46,50,46,50,46,47,50,52,42,43,44,50,51,44,47,50,50,51,50,51,45,50,45,57,58,48,50,50,50,50,50,50,56,57,49,50,50,50,50,50,50,55,56,50,56,50,50,50,50,50,54,49,50,55,48,50,50,50,50,53,50,53,54,49,48,51,52,53,50,49,50,50,51,50,52,50,53,50,50,50,50,50,50,51,50,52,50,51,50,50,50,51],\"type\":\"scatter3d\"},{\"line\":{\"color\":\"red\",\"width\":2},\"mode\":\"lines\",\"x\":[29,29,29,29,29,30,30,30,30,31,32,33,33,33,33,33,33,34,34,34,34,34,34,34,34,35,35,35,35,35,35,35,35,35,36,36,36,36,36,36,36,36,36,36,37,37,37,37,37,37,37,37,37,37,37,37,38,38,38,38,38,38,38,38,38,38,38,38,38,38,38,39,39,39,39,39,39,39,39,39,39,39,39,39,39,39,40,40,40,40,40,40,40,40,40,41,41,41,41,41,41,41,41,42,42,42,42,42,42,42,42,42,43,43,43,43,43,43,43,43,43,44,44,44,44,44,44,44,44,44,44,45,45,45,45,45,45,46,46,46,46,46,46,47,47,47,47,47,47,47,48,48,48,48,48,48,48,48,49,49,49,49,50,50],\"y\":[74,74,75,75,75,73,74,74,74,73,72,68,69,71,71,72,72,67,68,70,70,70,70,71,71,66,67,69,69,69,69,70,70,70,65,65,67,67,68,68,68,68,69,69,64,65,65,65,66,66,67,67,67,68,68,68,63,63,64,64,65,65,65,66,66,66,66,67,67,67,68,62,63,63,64,64,65,65,65,65,66,66,66,66,66,67,62,62,63,63,64,64,65,65,66,60,60,61,61,62,63,64,65,59,59,59,60,60,61,62,63,64,58,58,58,59,59,60,61,62,63,57,57,58,58,58,59,59,60,61,62,56,57,57,57,58,59,56,56,56,57,58,58,54,54,55,55,56,56,57,50,51,52,53,54,54,55,55,50,50,51,52,50,50],\"z\":[28,31,28,29,30,32,29,30,31,32,33,55,55,34,35,35,36,54,54,36,38,41,56,36,37,53,53,39,42,54,55,38,41,56,52,53,53,54,40,43,44,53,42,55,52,50,51,52,52,53,45,52,54,40,43,54,50,51,50,51,45,50,51,45,46,51,53,41,42,43,43,50,46,50,46,50,46,47,50,52,42,43,44,50,51,44,47,50,50,51,50,51,45,50,45,57,58,48,50,50,50,50,50,50,56,57,49,50,50,50,50,50,50,55,56,50,56,50,50,50,50,50,54,49,50,55,48,50,50,50,50,53,50,53,54,49,48,51,52,53,50,49,50,50,51,50,52,50,53,50,50,50,50,50,50,51,50,52,50,51,50,50,50,51],\"type\":\"scatter3d\"}],                        {\"template\":{\"data\":{\"histogram2dcontour\":[{\"type\":\"histogram2dcontour\",\"colorbar\":{\"outlinewidth\":0,\"ticks\":\"\"},\"colorscale\":[[0.0,\"#0d0887\"],[0.1111111111111111,\"#46039f\"],[0.2222222222222222,\"#7201a8\"],[0.3333333333333333,\"#9c179e\"],[0.4444444444444444,\"#bd3786\"],[0.5555555555555556,\"#d8576b\"],[0.6666666666666666,\"#ed7953\"],[0.7777777777777778,\"#fb9f3a\"],[0.8888888888888888,\"#fdca26\"],[1.0,\"#f0f921\"]]}],\"choropleth\":[{\"type\":\"choropleth\",\"colorbar\":{\"outlinewidth\":0,\"ticks\":\"\"}}],\"histogram2d\":[{\"type\":\"histogram2d\",\"colorbar\":{\"outlinewidth\":0,\"ticks\":\"\"},\"colorscale\":[[0.0,\"#0d0887\"],[0.1111111111111111,\"#46039f\"],[0.2222222222222222,\"#7201a8\"],[0.3333333333333333,\"#9c179e\"],[0.4444444444444444,\"#bd3786\"],[0.5555555555555556,\"#d8576b\"],[0.6666666666666666,\"#ed7953\"],[0.7777777777777778,\"#fb9f3a\"],[0.8888888888888888,\"#fdca26\"],[1.0,\"#f0f921\"]]}],\"heatmap\":[{\"type\":\"heatmap\",\"colorbar\":{\"outlinewidth\":0,\"ticks\":\"\"},\"colorscale\":[[0.0,\"#0d0887\"],[0.1111111111111111,\"#46039f\"],[0.2222222222222222,\"#7201a8\"],[0.3333333333333333,\"#9c179e\"],[0.4444444444444444,\"#bd3786\"],[0.5555555555555556,\"#d8576b\"],[0.6666666666666666,\"#ed7953\"],[0.7777777777777778,\"#fb9f3a\"],[0.8888888888888888,\"#fdca26\"],[1.0,\"#f0f921\"]]}],\"heatmapgl\":[{\"type\":\"heatmapgl\",\"colorbar\":{\"outlinewidth\":0,\"ticks\":\"\"},\"colorscale\":[[0.0,\"#0d0887\"],[0.1111111111111111,\"#46039f\"],[0.2222222222222222,\"#7201a8\"],[0.3333333333333333,\"#9c179e\"],[0.4444444444444444,\"#bd3786\"],[0.5555555555555556,\"#d8576b\"],[0.6666666666666666,\"#ed7953\"],[0.7777777777777778,\"#fb9f3a\"],[0.8888888888888888,\"#fdca26\"],[1.0,\"#f0f921\"]]}],\"contourcarpet\":[{\"type\":\"contourcarpet\",\"colorbar\":{\"outlinewidth\":0,\"ticks\":\"\"}}],\"contour\":[{\"type\":\"contour\",\"colorbar\":{\"outlinewidth\":0,\"ticks\":\"\"},\"colorscale\":[[0.0,\"#0d0887\"],[0.1111111111111111,\"#46039f\"],[0.2222222222222222,\"#7201a8\"],[0.3333333333333333,\"#9c179e\"],[0.4444444444444444,\"#bd3786\"],[0.5555555555555556,\"#d8576b\"],[0.6666666666666666,\"#ed7953\"],[0.7777777777777778,\"#fb9f3a\"],[0.8888888888888888,\"#fdca26\"],[1.0,\"#f0f921\"]]}],\"surface\":[{\"type\":\"surface\",\"colorbar\":{\"outlinewidth\":0,\"ticks\":\"\"},\"colorscale\":[[0.0,\"#0d0887\"],[0.1111111111111111,\"#46039f\"],[0.2222222222222222,\"#7201a8\"],[0.3333333333333333,\"#9c179e\"],[0.4444444444444444,\"#bd3786\"],[0.5555555555555556,\"#d8576b\"],[0.6666666666666666,\"#ed7953\"],[0.7777777777777778,\"#fb9f3a\"],[0.8888888888888888,\"#fdca26\"],[1.0,\"#f0f921\"]]}],\"mesh3d\":[{\"type\":\"mesh3d\",\"colorbar\":{\"outlinewidth\":0,\"ticks\":\"\"}}],\"scatter\":[{\"fillpattern\":{\"fillmode\":\"overlay\",\"size\":10,\"solidity\":0.2},\"type\":\"scatter\"}],\"parcoords\":[{\"type\":\"parcoords\",\"line\":{\"colorbar\":{\"outlinewidth\":0,\"ticks\":\"\"}}}],\"scatterpolargl\":[{\"type\":\"scatterpolargl\",\"marker\":{\"colorbar\":{\"outlinewidth\":0,\"ticks\":\"\"}}}],\"bar\":[{\"error_x\":{\"color\":\"#2a3f5f\"},\"error_y\":{\"color\":\"#2a3f5f\"},\"marker\":{\"line\":{\"color\":\"#E5ECF6\",\"width\":0.5},\"pattern\":{\"fillmode\":\"overlay\",\"size\":10,\"solidity\":0.2}},\"type\":\"bar\"}],\"scattergeo\":[{\"type\":\"scattergeo\",\"marker\":{\"colorbar\":{\"outlinewidth\":0,\"ticks\":\"\"}}}],\"scatterpolar\":[{\"type\":\"scatterpolar\",\"marker\":{\"colorbar\":{\"outlinewidth\":0,\"ticks\":\"\"}}}],\"histogram\":[{\"marker\":{\"pattern\":{\"fillmode\":\"overlay\",\"size\":10,\"solidity\":0.2}},\"type\":\"histogram\"}],\"scattergl\":[{\"type\":\"scattergl\",\"marker\":{\"colorbar\":{\"outlinewidth\":0,\"ticks\":\"\"}}}],\"scatter3d\":[{\"type\":\"scatter3d\",\"line\":{\"colorbar\":{\"outlinewidth\":0,\"ticks\":\"\"}},\"marker\":{\"colorbar\":{\"outlinewidth\":0,\"ticks\":\"\"}}}],\"scattermapbox\":[{\"type\":\"scattermapbox\",\"marker\":{\"colorbar\":{\"outlinewidth\":0,\"ticks\":\"\"}}}],\"scatterternary\":[{\"type\":\"scatterternary\",\"marker\":{\"colorbar\":{\"outlinewidth\":0,\"ticks\":\"\"}}}],\"scattercarpet\":[{\"type\":\"scattercarpet\",\"marker\":{\"colorbar\":{\"outlinewidth\":0,\"ticks\":\"\"}}}],\"carpet\":[{\"aaxis\":{\"endlinecolor\":\"#2a3f5f\",\"gridcolor\":\"white\",\"linecolor\":\"white\",\"minorgridcolor\":\"white\",\"startlinecolor\":\"#2a3f5f\"},\"baxis\":{\"endlinecolor\":\"#2a3f5f\",\"gridcolor\":\"white\",\"linecolor\":\"white\",\"minorgridcolor\":\"white\",\"startlinecolor\":\"#2a3f5f\"},\"type\":\"carpet\"}],\"table\":[{\"cells\":{\"fill\":{\"color\":\"#EBF0F8\"},\"line\":{\"color\":\"white\"}},\"header\":{\"fill\":{\"color\":\"#C8D4E3\"},\"line\":{\"color\":\"white\"}},\"type\":\"table\"}],\"barpolar\":[{\"marker\":{\"line\":{\"color\":\"#E5ECF6\",\"width\":0.5},\"pattern\":{\"fillmode\":\"overlay\",\"size\":10,\"solidity\":0.2}},\"type\":\"barpolar\"}],\"pie\":[{\"automargin\":true,\"type\":\"pie\"}]},\"layout\":{\"autotypenumbers\":\"strict\",\"colorway\":[\"#636efa\",\"#EF553B\",\"#00cc96\",\"#ab63fa\",\"#FFA15A\",\"#19d3f3\",\"#FF6692\",\"#B6E880\",\"#FF97FF\",\"#FECB52\"],\"font\":{\"color\":\"#2a3f5f\"},\"hovermode\":\"closest\",\"hoverlabel\":{\"align\":\"left\"},\"paper_bgcolor\":\"white\",\"plot_bgcolor\":\"#E5ECF6\",\"polar\":{\"bgcolor\":\"#E5ECF6\",\"angularaxis\":{\"gridcolor\":\"white\",\"linecolor\":\"white\",\"ticks\":\"\"},\"radialaxis\":{\"gridcolor\":\"white\",\"linecolor\":\"white\",\"ticks\":\"\"}},\"ternary\":{\"bgcolor\":\"#E5ECF6\",\"aaxis\":{\"gridcolor\":\"white\",\"linecolor\":\"white\",\"ticks\":\"\"},\"baxis\":{\"gridcolor\":\"white\",\"linecolor\":\"white\",\"ticks\":\"\"},\"caxis\":{\"gridcolor\":\"white\",\"linecolor\":\"white\",\"ticks\":\"\"}},\"coloraxis\":{\"colorbar\":{\"outlinewidth\":0,\"ticks\":\"\"}},\"colorscale\":{\"sequential\":[[0.0,\"#0d0887\"],[0.1111111111111111,\"#46039f\"],[0.2222222222222222,\"#7201a8\"],[0.3333333333333333,\"#9c179e\"],[0.4444444444444444,\"#bd3786\"],[0.5555555555555556,\"#d8576b\"],[0.6666666666666666,\"#ed7953\"],[0.7777777777777778,\"#fb9f3a\"],[0.8888888888888888,\"#fdca26\"],[1.0,\"#f0f921\"]],\"sequentialminus\":[[0.0,\"#0d0887\"],[0.1111111111111111,\"#46039f\"],[0.2222222222222222,\"#7201a8\"],[0.3333333333333333,\"#9c179e\"],[0.4444444444444444,\"#bd3786\"],[0.5555555555555556,\"#d8576b\"],[0.6666666666666666,\"#ed7953\"],[0.7777777777777778,\"#fb9f3a\"],[0.8888888888888888,\"#fdca26\"],[1.0,\"#f0f921\"]],\"diverging\":[[0,\"#8e0152\"],[0.1,\"#c51b7d\"],[0.2,\"#de77ae\"],[0.3,\"#f1b6da\"],[0.4,\"#fde0ef\"],[0.5,\"#f7f7f7\"],[0.6,\"#e6f5d0\"],[0.7,\"#b8e186\"],[0.8,\"#7fbc41\"],[0.9,\"#4d9221\"],[1,\"#276419\"]]},\"xaxis\":{\"gridcolor\":\"white\",\"linecolor\":\"white\",\"ticks\":\"\",\"title\":{\"standoff\":15},\"zerolinecolor\":\"white\",\"automargin\":true,\"zerolinewidth\":2},\"yaxis\":{\"gridcolor\":\"white\",\"linecolor\":\"white\",\"ticks\":\"\",\"title\":{\"standoff\":15},\"zerolinecolor\":\"white\",\"automargin\":true,\"zerolinewidth\":2},\"scene\":{\"xaxis\":{\"backgroundcolor\":\"#E5ECF6\",\"gridcolor\":\"white\",\"linecolor\":\"white\",\"showbackground\":true,\"ticks\":\"\",\"zerolinecolor\":\"white\",\"gridwidth\":2},\"yaxis\":{\"backgroundcolor\":\"#E5ECF6\",\"gridcolor\":\"white\",\"linecolor\":\"white\",\"showbackground\":true,\"ticks\":\"\",\"zerolinecolor\":\"white\",\"gridwidth\":2},\"zaxis\":{\"backgroundcolor\":\"#E5ECF6\",\"gridcolor\":\"white\",\"linecolor\":\"white\",\"showbackground\":true,\"ticks\":\"\",\"zerolinecolor\":\"white\",\"gridwidth\":2}},\"shapedefaults\":{\"line\":{\"color\":\"#2a3f5f\"}},\"annotationdefaults\":{\"arrowcolor\":\"#2a3f5f\",\"arrowhead\":0,\"arrowwidth\":1},\"geo\":{\"bgcolor\":\"white\",\"landcolor\":\"#E5ECF6\",\"subunitcolor\":\"white\",\"showland\":true,\"showlakes\":true,\"lakecolor\":\"white\"},\"title\":{\"x\":0.05},\"mapbox\":{\"style\":\"light\"}}},\"scene\":{\"xaxis\":{\"title\":{\"text\":\"X Axis\"},\"showbackground\":true,\"backgroundcolor\":\"rgb(230, 230,230)\"},\"yaxis\":{\"title\":{\"text\":\"Y Axis\"},\"showbackground\":true,\"backgroundcolor\":\"rgb(230, 230,230)\"},\"zaxis\":{\"title\":{\"text\":\"Z Axis\"},\"showbackground\":true,\"backgroundcolor\":\"rgb(230, 230,230)\"}},\"title\":{\"text\":\"3D Visualization of Protein Folding on a Lattice With Amino Acid Parameters\"},\"showlegend\":false},                        {\"responsive\": true}                    ).then(function(){\n",
       "                            \n",
       "var gd = document.getElementById('b44e2516-d53c-4025-a212-9b1300b7097c');\n",
       "var x = new MutationObserver(function (mutations, observer) {{\n",
       "        var display = window.getComputedStyle(gd).display;\n",
       "        if (!display || display === 'none') {{\n",
       "            console.log([gd, 'removed!']);\n",
       "            Plotly.purge(gd);\n",
       "            observer.disconnect();\n",
       "        }}\n",
       "}});\n",
       "\n",
       "// Listen for the removal of the full notebook cells\n",
       "var notebookContainer = gd.closest('#notebook-container');\n",
       "if (notebookContainer) {{\n",
       "    x.observe(notebookContainer, {childList: true});\n",
       "}}\n",
       "\n",
       "// Listen for the clearing of the current output cell\n",
       "var outputEl = gd.closest('.output');\n",
       "if (outputEl) {{\n",
       "    x.observe(outputEl, {childList: true});\n",
       "}}\n",
       "\n",
       "                        })                };                });            </script>        </div>"
      ]
     },
     "metadata": {},
     "output_type": "display_data"
    }
   ],
   "source": [
    "grid_size = 100 \n",
    "grid = np.full((grid_size, grid_size, grid_size), '', dtype=str)  \n",
    "start_pos = (grid_size // 2, grid_size // 2, grid_size // 2) \n",
    "movements = {'up': (1, 0, 0), 'down': (-1, 0, 0), 'left': (0, -1, 0), 'right': (0, 1, 0), 'forward': (0, 0, 1), 'backward': (0, 0, -1)}\n",
    "\n",
    "alpha_helix = 'MNIFEMLRIDEGLRLKIYKDTEGYYTIGIGHLLTKSPSLNAAKIELDKAIGRNTNGVITKDEAEKLFNQDVDAAVRGILRNAKLKPVYDSLDAVRRAALINMVFQMGETGVAGFTNSLRMLQQKRWDEAAVNLAKSRWYNQTPNRAKRVITTFRTGTWDAYKNL'\n",
    "result_grid_alpha = predict_structure_3d(alpha_helix)\n",
    "\n",
    "indices = np.where(grid != '')\n",
    "x, y, z = indices[0], indices[1], indices[2] \n",
    "labels = grid[x, y, z]\n",
    "\n",
    "fig3 = go.Figure()\n",
    "\n",
    "fig3.add_trace(go.Scatter3d(\n",
    "    x=x, y=y, z=z,\n",
    "    mode='markers+text',\n",
    "    marker=dict(\n",
    "        size=5,\n",
    "        color='blue',\n",
    "    ),\n",
    "    text=labels,  \n",
    "    textposition=\"top center\"\n",
    "))\n",
    "\n",
    "fig3.add_trace(go.Scatter3d(\n",
    "    x=x, y=y, z=z,\n",
    "    mode='lines',\n",
    "    line=dict(\n",
    "        color='red', \n",
    "        width=2\n",
    "    )\n",
    "))\n",
    "\n",
    "fig3.update_layout(\n",
    "    title='3D Visualization of Protein Folding on a Lattice With Amino Acid Parameters',\n",
    "    scene=dict(\n",
    "        xaxis_title='X Axis',\n",
    "        yaxis_title='Y Axis',\n",
    "        zaxis_title='Z Axis',\n",
    "        xaxis=dict(showbackground=True, backgroundcolor=\"rgb(230, 230,230)\"),\n",
    "        yaxis=dict(showbackground=True, backgroundcolor=\"rgb(230, 230,230)\"),\n",
    "        zaxis=dict(showbackground=True, backgroundcolor=\"rgb(230, 230,230)\")\n",
    "    ),\n",
    "    showlegend=False\n",
    ")\n",
    "\n",
    "fig3.show()\n"
   ]
  },
  {
   "cell_type": "markdown",
   "id": "68609db8-e83e-4a06-a489-903be4ff408a",
   "metadata": {},
   "source": [
    "        As expcted, the structure is nowhere near to that of an actual alpha helix. I find it interesting that my prediction tried to somewhat take on the helical shape in certain parts, as noted by the several back and forth movements. Then again, that could be not at all related what I have is more of a random model rather than anything close to the actual protein structure."
   ]
  },
  {
   "cell_type": "markdown",
   "id": "768038fe-0f13-49c1-a920-0ab0838f7b83",
   "metadata": {},
   "source": [
    "## III. Conclusion/ Final Thoughts"
   ]
  },
  {
   "cell_type": "markdown",
   "id": "8d7c21c1-3908-4bd0-b484-f7f2f170df1a",
   "metadata": {},
   "source": [
    "        Unfortunatley, I was not able to complete the project to the extent that I wanted to. A lot of time was spent in better understanding the structures of proteins so that I could get a better idea of how to model them. Most of what I completed involved randomization rather than gathering actual transition probabilities. Still, while I will not be competing in the CASP15 competition anytime soon with my model, I think that I did manage to build a decent starting point for protein structure modeling that could be improved upon. What would help is moving the space beyond a lattice to incorporate angle positioning, as well as aquire realistic probability/transition distributions. I will try to continue this project on my own to see if I can incorporate any of these additions to my model. "
   ]
  },
  {
   "cell_type": "markdown",
   "id": "66860a5d-a56a-4a16-9850-aa346bc19fbf",
   "metadata": {
    "tags": []
   },
   "source": [
    "# References and Citations\n",
    "- https://webhost.bridgew.edu/fgorga/proteins/aminoacids.htm#:~:text=The%20non%2Dpolar%20amino%20acids,lysine%2C%20serine%2C%20and%20threonine. \n",
    "    - Used for determining polarity of each amino acid\n",
    "- https://www.imgt.org/IMGTeducation/Aide-memoire/_UK/aminoacids/IMGTclasses.html#:~:text=Amino%20acids%20in%20each%20class,%2C%20Q%2C%20E%2C%20K.\n",
    "    - Used for acquiring hydropathy and index values\n",
    "- https://www.bioinformatics.org/sms2/random_protein.html\n",
    "    - Used to generate random protein sequences of variable lengths\n",
    "- https://www.rcsb.org/\n",
    "    - Used to aquire alpha helix amino acid sequence\n",
    "- https://www.ncbi.nlm.nih.gov/pmc/articles/PMC2578800/\n",
    "    - Referencing previous work done in this area of study\n",
    "- Quickstart Molecular Biology: An Introduction for Mathematicians, Physicists, and Computatonal Scientists by Philip N. Benfey\n",
    "    - Used to help me better understand the structure of proteins"
   ]
  }
 ],
 "metadata": {
  "kernelspec": {
   "display_name": "Python 3 (ipykernel)",
   "language": "python",
   "name": "python3"
  },
  "language_info": {
   "codemirror_mode": {
    "name": "ipython",
    "version": 3
   },
   "file_extension": ".py",
   "mimetype": "text/x-python",
   "name": "python",
   "nbconvert_exporter": "python",
   "pygments_lexer": "ipython3",
   "version": "3.11.8"
  }
 },
 "nbformat": 4,
 "nbformat_minor": 5
}
